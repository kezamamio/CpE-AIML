{
  "nbformat": 4,
  "nbformat_minor": 0,
  "metadata": {
    "colab": {
      "name": "58034_Lab04_TrashTakers",
      "provenance": [],
      "collapsed_sections": [],
      "include_colab_link": true
    },
    "kernelspec": {
      "name": "python3",
      "display_name": "Python 3"
    },
    "language_info": {
      "name": "python"
    }
  },
  "cells": [
    {
      "cell_type": "markdown",
      "metadata": {
        "id": "view-in-github",
        "colab_type": "text"
      },
      "source": [
        "<a href=\"https://colab.research.google.com/github/kezamamio/CpE-AIML/blob/main/58034_Lab04_TrashTakers/58034_Lab04_TrashTakers/58034_Lab04_TrashTakers.ipynb\" target=\"_parent\"><img src=\"https://colab.research.google.com/assets/colab-badge.svg\" alt=\"Open In Colab\"/></a>"
      ]
    },
    {
      "cell_type": "markdown",
      "metadata": {
        "id": "Q3Ki7Eix6HfL"
      },
      "source": [
        "# Topic 4 Lab 2: Multiple Linear Regression\n",
        "$_{\\text{©D.J. Lopez | 2021 | Fundamentals of Machine Learning}}$"
      ]
    },
    {
      "cell_type": "markdown",
      "metadata": {
        "id": "0cApvlgu6RXq"
      },
      "source": [
        "# Part 1\n",
        "Create a class named `MultipleLinearRegression()` wherein it can compute for the linear regression for multiple variables. The class will be required to have the following helper methods:\n",
        "> 1. `correlations(X, y)`\n",
        ">> input: 2 Rank 2 matrices\n",
        ">>\n",
        ">> output: A vector that contains the covariances of each feature to the target. \n",
        "> 3. `train(X, y)`\n",
        ">> input: 2 Rank 2 matrices\n",
        ">>\n",
        ">> output: the weights of the linear regressor. Use least squares method for this part. If the training fails due to the singularity of the matrix, raise a custom error pertaining to autocorrelation.\n",
        "> 4. `predict(x)`\n",
        ">> input: A testing vector. *Note*: this function should only accept vectors.\n",
        ">>\n",
        ">> output: the predicted value. Note: the procedure in solving for the predicted value should be vectorized. Use the concept of matrix multiplication. Do not forget to pad the matrix for the bias term.\n",
        "> 5. `evaluate()`\n",
        ">> input: *none*\n",
        ">>\n",
        ">> output: a `DataFrame` that displays the SST, SSR, SSE, MSE, RMSE, R-squared, and the Adjusted R-squared. Note: You should use the `predict()` method here.\n",
        "> 5. `visualize(testX, testY)`\n",
        ">> input: the dataset training sets and their ground truths.\n",
        ">>\n",
        ">> output: a visualization of the linear regressor over the testing dataset. It should be saved as a .jpg file into the running notebook with a dpi of 400."
      ]
    },
    {
      "cell_type": "code",
      "metadata": {
        "id": "0UUrD4zJ6EVj"
      },
      "source": [
        "import numpy as np\n",
        "import matplotlib.pyplot as plt\n",
        "import pandas as pd\n",
        "## No other packages or libraries can be added in this cell"
      ],
      "execution_count": null,
      "outputs": []
    },
    {
      "cell_type": "code",
      "metadata": {
        "id": "6WzxCuxQ-xqb"
      },
      "source": [
        "### YOUR CODE HERE\n",
        "class MultipleLinearRegression():\n",
        "\n",
        "    def __init__(self):\n",
        "        self.theta = []\n",
        "        self.model_ = 0        \n",
        "  \n",
        "    def concat(self, X):\n",
        "        shape_X = X.shape[0]\n",
        "        ones = np.ones(shape=shape_X).reshape(-1,1)\n",
        "        return np.concatenate((ones, X), 1)\n",
        "\n",
        "    def help_preds(self, entry):\n",
        "        beta0 = self.theta[0]\n",
        "        betas = self.theta[1:]\n",
        "        prediction = beta0\n",
        "        for xi, bi in zip(entry, betas): prediction += (bi*xi)\n",
        "        return prediction\n",
        "\n",
        "      ## Correlations\n",
        "    def correlations(self, X, y):\n",
        "        self.X = X\n",
        "        self.y = y\n",
        "        self.X = self.X.T\n",
        "        X = self.X.to_numpy()\n",
        "        y = self.y.to_numpy()\n",
        "        corr1 = np.corrcoef(X,y.flatten())[2,1]\n",
        "        corr2 = np.corrcoef(X,y.flatten())[0,2]\n",
        "        correlate = corr1, corr2\n",
        "        return np.round(correlate, decimals = 2)\n",
        "\n",
        "  ## Train \n",
        "    def train(self, X_train, y_train):\n",
        "        self.y_train=y_train\n",
        "        if len(X_train.shape) == 1: self.X_train = X_train.reshape(-1, 1)\n",
        "        self.X_train = self.concat(X_train)\n",
        "        self.theta = np.linalg.inv(self.X_train.T @ self.X_train) @ self.X_train.T @ self.y_train\n",
        "        self.w0 = self.theta[0]\n",
        "        self.w1 = self.theta[1]\n",
        "        self.w2 = self.theta[2]\n",
        "        self.model_ = self.theta.reshape(-1,1)\n",
        "        return print(\"w0: \", self.w0, \"\\nw1: \", self.w1, \"\\nw2: \", self.w2)\n",
        "\n",
        "  ## Predict\n",
        "    def predict(self, test):\n",
        "        test = test.values\n",
        "        self.preds = []\n",
        "        for row in test:\n",
        "            self.preds.append(self.help_preds(row))\n",
        "        self.preds = np.asarray(self.preds)\n",
        "        self.preds = self.preds.reshape(-1,1)\n",
        "        return self.preds\n",
        "    \n",
        "    def evaluate(self):\n",
        "        self.ytrain=y_train.to_numpy()\n",
        "        y_hat = self.predict(X_train).reshape(1,-1)\n",
        "        sst=np.sum(np.square(self.ytrain-self.ytrain.mean()))\n",
        "        ssr=np.sum(np.square(y_hat-self.ytrain.mean()))\n",
        "        sse=np.sum(np.square(y_hat-self.ytrain))\n",
        "        mse=np.mean(np.square(y_hat-self.ytrain))\n",
        "        rmse=np.sqrt(mse)\n",
        "        rss=1-sse/sst\n",
        "        arss=1-(((1-rss)*(self.ytrain.size-1))/(self.ytrain.size-1-1))\n",
        "        eval_dict ={'Measures of Error':['Sum of Squares Total', 'Sum of Squares Regression',\n",
        "                                        'Sum of Squares Error', 'Mean Squared Error', 'Root Mean Squared Error',\n",
        "                                        'R-Squared', 'Adjusted R-Squared'],\n",
        "                    'Values':[sst,ssr,sse,mse,rmse,rss,arss]\n",
        "                   }\n",
        "        df = pd.DataFrame(eval_dict)\n",
        "        return df\n",
        "\n",
        "  ## Visualize\n",
        "    def visualize(self, X_test, y_test):\n",
        "      X = pd.read_csv(\"real_estate_price_size_year.csv\") \n",
        "      y = X['price']\n",
        "      X = X.drop('price', axis=1)\n",
        "      X = X.drop('year', axis=1)\n",
        "      \n",
        "      x = [1,2,3,4,5]\n",
        "      y_pred=self.predict(X_test)\n",
        "      \n",
        "\n",
        "      plt.figure(1)\n",
        "      plt.figure(figsize=(7,5), dpi=400) \n",
        "      plt.scatter (X,y, color='blue')\n",
        "      plt.grid()\n",
        "      plt.title('Ground Truth')\n",
        "      plt.savefig(\"groundtruth.jpg\")\n",
        "\n",
        "      plt.figure(2)\n",
        "      plt.figure(figsize=(7,5), dpi=400) \n",
        "      plt.plot(y_test, y_pred, color='red')\n",
        "      plt.grid()\n",
        "      plt.title('Predicted')\n",
        "      plt.savefig(\"predicted.jpg\")\n",
        "      \n",
        "      \n",
        "      plt.show()   "
      ],
      "execution_count": null,
      "outputs": []
    },
    {
      "cell_type": "code",
      "metadata": {
        "id": "7RB4i8MI96Ys"
      },
      "source": [
        "### Testing Data\n",
        "### DO NOT DELETE NOR MODIFY THIS CELL\n",
        "### Data can be retrieved from the git repo\n",
        "X = pd.read_csv(\"real_estate_price_size_year.csv\") \n",
        "y = X['price']\n",
        "X = X.drop('price', axis=1)\n",
        "X_train, X_test = X.iloc[0:95], X.iloc[95:]\n",
        "y_train, y_test = y.iloc[0:95], y.iloc[95:]"
      ],
      "execution_count": null,
      "outputs": []
    },
    {
      "cell_type": "code",
      "metadata": {
        "id": "zGY61WiZ-Ze5"
      },
      "source": [
        "## TEST #1 (Max pts: 5)\n",
        "## DO NOT DELETE NOR MODIFY THIS CELL\n",
        "regressor = MultipleLinearRegression()"
      ],
      "execution_count": null,
      "outputs": []
    },
    {
      "cell_type": "code",
      "metadata": {
        "id": "IKuHQIceA2D0",
        "colab": {
          "base_uri": "https://localhost:8080/"
        },
        "outputId": "24de80db-a99e-4188-cc82-97c7cfb95b08"
      },
      "source": [
        "## TEST #2 (Max pts: 10)\n",
        "## DO NOT DELETE NOR MODIFY THIS CELL\n",
        "R = regressor.correlations(X,y)\n",
        "R"
      ],
      "execution_count": null,
      "outputs": [
        {
          "output_type": "execute_result",
          "data": {
            "text/plain": [
              "array([0.09, 0.86])"
            ]
          },
          "metadata": {},
          "execution_count": 68
        }
      ]
    },
    {
      "cell_type": "markdown",
      "metadata": {
        "id": "iKPsTkB3BQuj"
      },
      "source": [
        "Expected output value:\n",
        "$$R = \\begin{bmatrix}0.09 & 0.86\\end{bmatrix}$$"
      ]
    },
    {
      "cell_type": "code",
      "metadata": {
        "id": "FlWF-AQEBnwL",
        "colab": {
          "base_uri": "https://localhost:8080/"
        },
        "outputId": "df600dd1-cb2a-402c-91a2-5b6b3a7dbe7e"
      },
      "source": [
        "## TEST #3 (Max pts: 15)\n",
        "## DO NOT DELETE NOR MODIFY THIS CELL\n",
        "regressor.train(X_train,y_train)\n",
        "regressor.model_"
      ],
      "execution_count": null,
      "outputs": [
        {
          "output_type": "stream",
          "name": "stdout",
          "text": [
            "w0:  -5964175.033710463 \n",
            "w1:  232.55743223419742 \n",
            "w2:  3010.093492351861\n"
          ]
        },
        {
          "output_type": "execute_result",
          "data": {
            "text/plain": [
              "array([[-5.96417503e+06],\n",
              "       [ 2.32557432e+02],\n",
              "       [ 3.01009349e+03]])"
            ]
          },
          "metadata": {},
          "execution_count": 69
        }
      ]
    },
    {
      "cell_type": "markdown",
      "metadata": {
        "id": "Jpl2Cz9SB6fz"
      },
      "source": [
        "Expected output value:\n",
        "$$\\omega = \\begin{bmatrix}\\omega_1 \\\\ \\omega_2 \\\\ \\omega_0\\end{bmatrix} = \\begin{bmatrix}232.56\\\\ 3010.09 \\\\ -5964175.03\\end{bmatrix}$$"
      ]
    },
    {
      "cell_type": "code",
      "metadata": {
        "id": "k9Q8e7JXC9U7",
        "colab": {
          "base_uri": "https://localhost:8080/"
        },
        "outputId": "287f68dc-cbbe-4d79-f5e2-db414608be13"
      },
      "source": [
        "## TEST #4 (Max pts: 35)\n",
        "## DO NOT DELETE NOR MODIFY THIS CELL\n",
        "preds = regressor.predict(X_test)\n",
        "preds"
      ],
      "execution_count": null,
      "outputs": [
        {
          "output_type": "execute_result",
          "data": {
            "text/plain": [
              "array([[210962.86866679],\n",
              "       [324367.17492147],\n",
              "       [424013.30810178],\n",
              "       [251928.01112164],\n",
              "       [238092.94332783]])"
            ]
          },
          "metadata": {},
          "execution_count": 70
        }
      ]
    },
    {
      "cell_type": "markdown",
      "metadata": {
        "id": "BdpaVDV3DBzr"
      },
      "source": [
        "Expected output value:\n",
        "$$\\hat{y}_i = \\begin{bmatrix} 210962.87 \\\\ 324367.17 \\\\ 424013.31 \\\\ 251928.01 \\\\ 238092.94 \\end{bmatrix}, i = \\{0,1,2,3,4\\}$$"
      ]
    },
    {
      "cell_type": "code",
      "metadata": {
        "id": "FUJuLe9pDArc",
        "colab": {
          "base_uri": "https://localhost:8080/",
          "height": 265
        },
        "outputId": "ea554572-9c01-4df9-bf62-eec3b70fde68"
      },
      "source": [
        "# TEST #5 (Max pts: 25)\n",
        "## DO NOT DELETE NOR MODIFY THIS CELL\n",
        "model_stats = regressor.evaluate()\n",
        "model_stats"
      ],
      "execution_count": null,
      "outputs": [
        {
          "output_type": "execute_result",
          "data": {
            "text/html": [
              "<div>\n",
              "<style scoped>\n",
              "    .dataframe tbody tr th:only-of-type {\n",
              "        vertical-align: middle;\n",
              "    }\n",
              "\n",
              "    .dataframe tbody tr th {\n",
              "        vertical-align: top;\n",
              "    }\n",
              "\n",
              "    .dataframe thead th {\n",
              "        text-align: right;\n",
              "    }\n",
              "</style>\n",
              "<table border=\"1\" class=\"dataframe\">\n",
              "  <thead>\n",
              "    <tr style=\"text-align: right;\">\n",
              "      <th></th>\n",
              "      <th>Measures of Error</th>\n",
              "      <th>Values</th>\n",
              "    </tr>\n",
              "  </thead>\n",
              "  <tbody>\n",
              "    <tr>\n",
              "      <th>0</th>\n",
              "      <td>Sum of Squares Total</td>\n",
              "      <td>5.726848e+11</td>\n",
              "    </tr>\n",
              "    <tr>\n",
              "      <th>1</th>\n",
              "      <td>Sum of Squares Regression</td>\n",
              "      <td>4.467124e+11</td>\n",
              "    </tr>\n",
              "    <tr>\n",
              "      <th>2</th>\n",
              "      <td>Sum of Squares Error</td>\n",
              "      <td>1.259723e+11</td>\n",
              "    </tr>\n",
              "    <tr>\n",
              "      <th>3</th>\n",
              "      <td>Mean Squared Error</td>\n",
              "      <td>1.326024e+09</td>\n",
              "    </tr>\n",
              "    <tr>\n",
              "      <th>4</th>\n",
              "      <td>Root Mean Squared Error</td>\n",
              "      <td>3.641462e+04</td>\n",
              "    </tr>\n",
              "    <tr>\n",
              "      <th>5</th>\n",
              "      <td>R-Squared</td>\n",
              "      <td>7.800320e-01</td>\n",
              "    </tr>\n",
              "    <tr>\n",
              "      <th>6</th>\n",
              "      <td>Adjusted R-Squared</td>\n",
              "      <td>7.776668e-01</td>\n",
              "    </tr>\n",
              "  </tbody>\n",
              "</table>\n",
              "</div>"
            ],
            "text/plain": [
              "           Measures of Error        Values\n",
              "0       Sum of Squares Total  5.726848e+11\n",
              "1  Sum of Squares Regression  4.467124e+11\n",
              "2       Sum of Squares Error  1.259723e+11\n",
              "3         Mean Squared Error  1.326024e+09\n",
              "4    Root Mean Squared Error  3.641462e+04\n",
              "5                  R-Squared  7.800320e-01\n",
              "6         Adjusted R-Squared  7.776668e-01"
            ]
          },
          "metadata": {},
          "execution_count": 71
        }
      ]
    },
    {
      "cell_type": "code",
      "metadata": {
        "id": "J7XW0jArDrQs",
        "colab": {
          "base_uri": "https://localhost:8080/",
          "height": 920
        },
        "outputId": "ed521875-ceb6-408f-beaf-f5cfbba2b6fe"
      },
      "source": [
        "## TEST #6 (Max pts: 15)\n",
        "## DO NOT DELETE NOR MODIFY THIS CELL\n",
        "regressor.visualize(X_test, y_test)"
      ],
      "execution_count": null,
      "outputs": [
        {
          "output_type": "display_data",
          "data": {
            "text/plain": [
              "<Figure size 432x288 with 0 Axes>"
            ]
          },
          "metadata": {}
        },
        {
          "output_type": "display_data",
          "data": {
            "image/png": "[encoded data removed]",
            "text/plain": [
              "<Figure size 700x500 with 1 Axes>"
            ]
          },
          "metadata": {
            "needs_background": "light"
          }
        },
        {
          "output_type": "display_data",
          "data": {
            "image/png": "[encoded data removed]",
            "text/plain": [
              "<Figure size 700x500 with 1 Axes>"
            ]
          },
          "metadata": {
            "needs_background": "light"
          }
        }
      ]
    },
    {
      "cell_type": "markdown",
      "metadata": {
        "id": "uJ7XQVSdfEYb"
      },
      "source": [
        "# Part 2\n",
        "## 2.1 Lecture Requirement\n",
        "\n",
        "Obtain a dataset of your liking from a data source. Explain the purpose of the dataset and mention any publication if it is obtained from the source. Provide a needs statement and significance for the dataset.\n",
        "\n"
      ]
    },
    {
      "cell_type": "markdown",
      "metadata": {
        "id": "by96mY2_4cyj"
      },
      "source": [
        "TrashTakers Lecture Requirement: [Fire and Theft in Chicago - Purpose, Needs Statement, and Significance](https://drive.google.com/file/d/1-QFT2D3dG-Zgz2YKbTtIhwkE0-DPuE0i/view?usp=sharing)\n",
        "\n",
        "\n"
      ]
    },
    {
      "cell_type": "markdown",
      "metadata": {
        "id": "2Z2NxvcNfgL0"
      },
      "source": [
        "## 2.2 Lab Requirement\n",
        "\n",
        "Perform data exploration, data cleaning, and data visualization. The dataset should contain targets either for regression or classification. Provide the correlation and measures of error and variability of the dataset."
      ]
    },
    {
      "cell_type": "markdown",
      "metadata": {
        "id": "OFZwrRcKfhnh"
      },
      "source": [
        "# Part 3\n",
        "## 3.1 Lecture Requirement\n",
        "\n",
        "Identify an algorithm or method in performing a machine learning activity with the dataset you have chosen. Mention any papers, publications, or white papers about the properties, use, and theory behind the method. Provide an explanation of equations representing the algorithm.\n",
        "\n"
      ]
    },
    {
      "cell_type": "markdown",
      "metadata": {
        "id": "wNhHoobbgmCz"
      },
      "source": [
        "TrashTakers Lecture Requirement: [Linear Regression](https://drive.google.com/file/d/1WOTa2tQFlXnI0T4fbIhxmrcsni2Mg2PU/view?usp=sharing)\n",
        "\n",
        "\n"
      ]
    },
    {
      "cell_type": "markdown",
      "metadata": {
        "id": "cB2qaPqtfyaC"
      },
      "source": [
        "## 3.2 Lab Requirement\n",
        "\n",
        "Present your solution implementing your algorithm of choice. You may use any library or package in this section. However, you are required to observe the following:\n",
        "\n",
        "* Enforce object-oriented programming by implementing at least two of the pillars of OOP in the entirety of the solution.\n",
        "* Dedicated functions for training, predicting, and evaluating the solution.\n",
        "* A DataFrame of the metrics of the solution\n",
        "* A visualization of the solution’s results."
      ]
    }
  ]
}