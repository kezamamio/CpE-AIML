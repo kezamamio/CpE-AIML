{
  "nbformat": 4,
  "nbformat_minor": 0,
  "metadata": {
    "colab": {
      "name": "58033_MEX_Amamio",
      "provenance": [],
      "include_colab_link": true
    },
    "kernelspec": {
      "name": "python3",
      "display_name": "Python 3"
    },
    "language_info": {
      "name": "python"
    }
  },
  "cells": [
    {
      "cell_type": "markdown",
      "metadata": {
        "id": "view-in-github",
        "colab_type": "text"
      },
      "source": [
        "<a href=\"https://colab.research.google.com/github/kezamamio/CpE-AIML/blob/main/58033_MEX_Amamio/58033_MEX_Amamio.ipynb\" target=\"_parent\"><img src=\"https://colab.research.google.com/assets/colab-badge.svg\" alt=\"Open In Colab\"/></a>"
      ]
    },
    {
      "cell_type": "markdown",
      "metadata": {
        "id": "A__4coSb3m2V"
      },
      "source": [
        "# Problem 1\n",
        "## Lecture Requirement\n",
        "\n",
        "* TrashTakers Lecture Requirement: [Fire and Theft in Chicago - Purpose, Needs Statement, and Significance](https://drive.google.com/file/d/1OrNA3z2aUahU5IRHFQRZa5t7AXn3ehuA/view?usp=sharing)\n",
        "\n"
      ]
    },
    {
      "cell_type": "markdown",
      "metadata": {
        "id": "lWMZbTsq3pIB"
      },
      "source": [
        "## Lab Requirement\n",
        "  ### Data Exploration, Cleaning, and Visualization"
      ]
    },
    {
      "cell_type": "code",
      "metadata": {
        "id": "CIqGmFCJ4O_j"
      },
      "source": [
        "import numpy as np\n",
        "import matplotlib.pyplot as plt\n",
        "import pandas as pd"
      ],
      "execution_count": 1,
      "outputs": []
    },
    {
      "cell_type": "code",
      "metadata": {
        "colab": {
          "base_uri": "https://localhost:8080/",
          "height": 358
        },
        "id": "rZ43RhB-4P2D",
        "outputId": "627b8cad-00b8-4e7b-8c7b-16e99188d62c"
      },
      "source": [
        "data = pd.read_csv(\"/content/slr05.csv\") \n",
        "data.head(10)"
      ],
      "execution_count": 2,
      "outputs": [
        {
          "output_type": "execute_result",
          "data": {
            "text/html": [
              "<div>\n",
              "<style scoped>\n",
              "    .dataframe tbody tr th:only-of-type {\n",
              "        vertical-align: middle;\n",
              "    }\n",
              "\n",
              "    .dataframe tbody tr th {\n",
              "        vertical-align: top;\n",
              "    }\n",
              "\n",
              "    .dataframe thead th {\n",
              "        text-align: right;\n",
              "    }\n",
              "</style>\n",
              "<table border=\"1\" class=\"dataframe\">\n",
              "  <thead>\n",
              "    <tr style=\"text-align: right;\">\n",
              "      <th></th>\n",
              "      <th>X</th>\n",
              "      <th>Y</th>\n",
              "    </tr>\n",
              "  </thead>\n",
              "  <tbody>\n",
              "    <tr>\n",
              "      <th>0</th>\n",
              "      <td>6.2</td>\n",
              "      <td>29</td>\n",
              "    </tr>\n",
              "    <tr>\n",
              "      <th>1</th>\n",
              "      <td>9.5</td>\n",
              "      <td>44</td>\n",
              "    </tr>\n",
              "    <tr>\n",
              "      <th>2</th>\n",
              "      <td>10.5</td>\n",
              "      <td>36</td>\n",
              "    </tr>\n",
              "    <tr>\n",
              "      <th>3</th>\n",
              "      <td>7.7</td>\n",
              "      <td>37</td>\n",
              "    </tr>\n",
              "    <tr>\n",
              "      <th>4</th>\n",
              "      <td>8.6</td>\n",
              "      <td>53</td>\n",
              "    </tr>\n",
              "    <tr>\n",
              "      <th>5</th>\n",
              "      <td>34.1</td>\n",
              "      <td>68</td>\n",
              "    </tr>\n",
              "    <tr>\n",
              "      <th>6</th>\n",
              "      <td>11.0</td>\n",
              "      <td>75</td>\n",
              "    </tr>\n",
              "    <tr>\n",
              "      <th>7</th>\n",
              "      <td>6.9</td>\n",
              "      <td>18</td>\n",
              "    </tr>\n",
              "    <tr>\n",
              "      <th>8</th>\n",
              "      <td>7.3</td>\n",
              "      <td>31</td>\n",
              "    </tr>\n",
              "    <tr>\n",
              "      <th>9</th>\n",
              "      <td>15.1</td>\n",
              "      <td>25</td>\n",
              "    </tr>\n",
              "  </tbody>\n",
              "</table>\n",
              "</div>"
            ],
            "text/plain": [
              "      X   Y\n",
              "0   6.2  29\n",
              "1   9.5  44\n",
              "2  10.5  36\n",
              "3   7.7  37\n",
              "4   8.6  53\n",
              "5  34.1  68\n",
              "6  11.0  75\n",
              "7   6.9  18\n",
              "8   7.3  31\n",
              "9  15.1  25"
            ]
          },
          "metadata": {},
          "execution_count": 2
        }
      ]
    },
    {
      "cell_type": "code",
      "metadata": {
        "colab": {
          "base_uri": "https://localhost:8080/"
        },
        "id": "qWjG6SM35vLS",
        "outputId": "8fc0d765-9b3a-480b-bad7-7a1fe5f70941"
      },
      "source": [
        "data.shape"
      ],
      "execution_count": 3,
      "outputs": [
        {
          "output_type": "execute_result",
          "data": {
            "text/plain": [
              "(42, 2)"
            ]
          },
          "metadata": {},
          "execution_count": 3
        }
      ]
    },
    {
      "cell_type": "code",
      "metadata": {
        "colab": {
          "base_uri": "https://localhost:8080/"
        },
        "id": "uqVLiMrZ_Ji2",
        "outputId": "e5d4c1d2-8807-44da-8eb3-1d7f6756ee8a"
      },
      "source": [
        "data.info()"
      ],
      "execution_count": 4,
      "outputs": [
        {
          "output_type": "stream",
          "name": "stdout",
          "text": [
            "<class 'pandas.core.frame.DataFrame'>\n",
            "RangeIndex: 42 entries, 0 to 41\n",
            "Data columns (total 2 columns):\n",
            " #   Column  Non-Null Count  Dtype  \n",
            "---  ------  --------------  -----  \n",
            " 0   X       42 non-null     float64\n",
            " 1   Y       42 non-null     int64  \n",
            "dtypes: float64(1), int64(1)\n",
            "memory usage: 800.0 bytes\n"
          ]
        }
      ]
    },
    {
      "cell_type": "code",
      "metadata": {
        "colab": {
          "base_uri": "https://localhost:8080/",
          "height": 358
        },
        "id": "-5Q9tEFT61kO",
        "outputId": "06c27e59-316c-4fb5-eb33-efb37aa307fd"
      },
      "source": [
        "# Rename X and Y columns into 'fires' and 'thefts', respectively\n",
        "data.rename(\n",
        "    columns = ({\"X\": \"fires\", \"Y\": \"thefts\"}),\n",
        "    inplace = True,\n",
        "  )\n",
        "data.head(10)                                                         ## Prints first 10 datapoints"
      ],
      "execution_count": 5,
      "outputs": [
        {
          "output_type": "execute_result",
          "data": {
            "text/html": [
              "<div>\n",
              "<style scoped>\n",
              "    .dataframe tbody tr th:only-of-type {\n",
              "        vertical-align: middle;\n",
              "    }\n",
              "\n",
              "    .dataframe tbody tr th {\n",
              "        vertical-align: top;\n",
              "    }\n",
              "\n",
              "    .dataframe thead th {\n",
              "        text-align: right;\n",
              "    }\n",
              "</style>\n",
              "<table border=\"1\" class=\"dataframe\">\n",
              "  <thead>\n",
              "    <tr style=\"text-align: right;\">\n",
              "      <th></th>\n",
              "      <th>fires</th>\n",
              "      <th>thefts</th>\n",
              "    </tr>\n",
              "  </thead>\n",
              "  <tbody>\n",
              "    <tr>\n",
              "      <th>0</th>\n",
              "      <td>6.2</td>\n",
              "      <td>29</td>\n",
              "    </tr>\n",
              "    <tr>\n",
              "      <th>1</th>\n",
              "      <td>9.5</td>\n",
              "      <td>44</td>\n",
              "    </tr>\n",
              "    <tr>\n",
              "      <th>2</th>\n",
              "      <td>10.5</td>\n",
              "      <td>36</td>\n",
              "    </tr>\n",
              "    <tr>\n",
              "      <th>3</th>\n",
              "      <td>7.7</td>\n",
              "      <td>37</td>\n",
              "    </tr>\n",
              "    <tr>\n",
              "      <th>4</th>\n",
              "      <td>8.6</td>\n",
              "      <td>53</td>\n",
              "    </tr>\n",
              "    <tr>\n",
              "      <th>5</th>\n",
              "      <td>34.1</td>\n",
              "      <td>68</td>\n",
              "    </tr>\n",
              "    <tr>\n",
              "      <th>6</th>\n",
              "      <td>11.0</td>\n",
              "      <td>75</td>\n",
              "    </tr>\n",
              "    <tr>\n",
              "      <th>7</th>\n",
              "      <td>6.9</td>\n",
              "      <td>18</td>\n",
              "    </tr>\n",
              "    <tr>\n",
              "      <th>8</th>\n",
              "      <td>7.3</td>\n",
              "      <td>31</td>\n",
              "    </tr>\n",
              "    <tr>\n",
              "      <th>9</th>\n",
              "      <td>15.1</td>\n",
              "      <td>25</td>\n",
              "    </tr>\n",
              "  </tbody>\n",
              "</table>\n",
              "</div>"
            ],
            "text/plain": [
              "   fires  thefts\n",
              "0    6.2      29\n",
              "1    9.5      44\n",
              "2   10.5      36\n",
              "3    7.7      37\n",
              "4    8.6      53\n",
              "5   34.1      68\n",
              "6   11.0      75\n",
              "7    6.9      18\n",
              "8    7.3      31\n",
              "9   15.1      25"
            ]
          },
          "metadata": {},
          "execution_count": 5
        }
      ]
    },
    {
      "cell_type": "code",
      "metadata": {
        "colab": {
          "base_uri": "https://localhost:8080/"
        },
        "id": "Nfa2G5AY_qcW",
        "outputId": "7370c1fb-0038-4ef1-e1c4-2c8733d27c21"
      },
      "source": [
        "data.mean()"
      ],
      "execution_count": 6,
      "outputs": [
        {
          "output_type": "execute_result",
          "data": {
            "text/plain": [
              "fires     12.692857\n",
              "thefts    33.666667\n",
              "dtype: float64"
            ]
          },
          "metadata": {},
          "execution_count": 6
        }
      ]
    },
    {
      "cell_type": "code",
      "metadata": {
        "colab": {
          "base_uri": "https://localhost:8080/",
          "height": 1000
        },
        "id": "um-_NcKYCji5",
        "outputId": "c997b182-b2cb-48b0-8325-91bd2c397b28"
      },
      "source": [
        "# How to recognize and Treat missing values and outliers in Pandas\n",
        "## Quality Check \n",
        "data.isnull()"
      ],
      "execution_count": 7,
      "outputs": [
        {
          "output_type": "execute_result",
          "data": {
            "text/html": [
              "<div>\n",
              "<style scoped>\n",
              "    .dataframe tbody tr th:only-of-type {\n",
              "        vertical-align: middle;\n",
              "    }\n",
              "\n",
              "    .dataframe tbody tr th {\n",
              "        vertical-align: top;\n",
              "    }\n",
              "\n",
              "    .dataframe thead th {\n",
              "        text-align: right;\n",
              "    }\n",
              "</style>\n",
              "<table border=\"1\" class=\"dataframe\">\n",
              "  <thead>\n",
              "    <tr style=\"text-align: right;\">\n",
              "      <th></th>\n",
              "      <th>fires</th>\n",
              "      <th>thefts</th>\n",
              "    </tr>\n",
              "  </thead>\n",
              "  <tbody>\n",
              "    <tr>\n",
              "      <th>0</th>\n",
              "      <td>False</td>\n",
              "      <td>False</td>\n",
              "    </tr>\n",
              "    <tr>\n",
              "      <th>1</th>\n",
              "      <td>False</td>\n",
              "      <td>False</td>\n",
              "    </tr>\n",
              "    <tr>\n",
              "      <th>2</th>\n",
              "      <td>False</td>\n",
              "      <td>False</td>\n",
              "    </tr>\n",
              "    <tr>\n",
              "      <th>3</th>\n",
              "      <td>False</td>\n",
              "      <td>False</td>\n",
              "    </tr>\n",
              "    <tr>\n",
              "      <th>4</th>\n",
              "      <td>False</td>\n",
              "      <td>False</td>\n",
              "    </tr>\n",
              "    <tr>\n",
              "      <th>5</th>\n",
              "      <td>False</td>\n",
              "      <td>False</td>\n",
              "    </tr>\n",
              "    <tr>\n",
              "      <th>6</th>\n",
              "      <td>False</td>\n",
              "      <td>False</td>\n",
              "    </tr>\n",
              "    <tr>\n",
              "      <th>7</th>\n",
              "      <td>False</td>\n",
              "      <td>False</td>\n",
              "    </tr>\n",
              "    <tr>\n",
              "      <th>8</th>\n",
              "      <td>False</td>\n",
              "      <td>False</td>\n",
              "    </tr>\n",
              "    <tr>\n",
              "      <th>9</th>\n",
              "      <td>False</td>\n",
              "      <td>False</td>\n",
              "    </tr>\n",
              "    <tr>\n",
              "      <th>10</th>\n",
              "      <td>False</td>\n",
              "      <td>False</td>\n",
              "    </tr>\n",
              "    <tr>\n",
              "      <th>11</th>\n",
              "      <td>False</td>\n",
              "      <td>False</td>\n",
              "    </tr>\n",
              "    <tr>\n",
              "      <th>12</th>\n",
              "      <td>False</td>\n",
              "      <td>False</td>\n",
              "    </tr>\n",
              "    <tr>\n",
              "      <th>13</th>\n",
              "      <td>False</td>\n",
              "      <td>False</td>\n",
              "    </tr>\n",
              "    <tr>\n",
              "      <th>14</th>\n",
              "      <td>False</td>\n",
              "      <td>False</td>\n",
              "    </tr>\n",
              "    <tr>\n",
              "      <th>15</th>\n",
              "      <td>False</td>\n",
              "      <td>False</td>\n",
              "    </tr>\n",
              "    <tr>\n",
              "      <th>16</th>\n",
              "      <td>False</td>\n",
              "      <td>False</td>\n",
              "    </tr>\n",
              "    <tr>\n",
              "      <th>17</th>\n",
              "      <td>False</td>\n",
              "      <td>False</td>\n",
              "    </tr>\n",
              "    <tr>\n",
              "      <th>18</th>\n",
              "      <td>False</td>\n",
              "      <td>False</td>\n",
              "    </tr>\n",
              "    <tr>\n",
              "      <th>19</th>\n",
              "      <td>False</td>\n",
              "      <td>False</td>\n",
              "    </tr>\n",
              "    <tr>\n",
              "      <th>20</th>\n",
              "      <td>False</td>\n",
              "      <td>False</td>\n",
              "    </tr>\n",
              "    <tr>\n",
              "      <th>21</th>\n",
              "      <td>False</td>\n",
              "      <td>False</td>\n",
              "    </tr>\n",
              "    <tr>\n",
              "      <th>22</th>\n",
              "      <td>False</td>\n",
              "      <td>False</td>\n",
              "    </tr>\n",
              "    <tr>\n",
              "      <th>23</th>\n",
              "      <td>False</td>\n",
              "      <td>False</td>\n",
              "    </tr>\n",
              "    <tr>\n",
              "      <th>24</th>\n",
              "      <td>False</td>\n",
              "      <td>False</td>\n",
              "    </tr>\n",
              "    <tr>\n",
              "      <th>25</th>\n",
              "      <td>False</td>\n",
              "      <td>False</td>\n",
              "    </tr>\n",
              "    <tr>\n",
              "      <th>26</th>\n",
              "      <td>False</td>\n",
              "      <td>False</td>\n",
              "    </tr>\n",
              "    <tr>\n",
              "      <th>27</th>\n",
              "      <td>False</td>\n",
              "      <td>False</td>\n",
              "    </tr>\n",
              "    <tr>\n",
              "      <th>28</th>\n",
              "      <td>False</td>\n",
              "      <td>False</td>\n",
              "    </tr>\n",
              "    <tr>\n",
              "      <th>29</th>\n",
              "      <td>False</td>\n",
              "      <td>False</td>\n",
              "    </tr>\n",
              "    <tr>\n",
              "      <th>30</th>\n",
              "      <td>False</td>\n",
              "      <td>False</td>\n",
              "    </tr>\n",
              "    <tr>\n",
              "      <th>31</th>\n",
              "      <td>False</td>\n",
              "      <td>False</td>\n",
              "    </tr>\n",
              "    <tr>\n",
              "      <th>32</th>\n",
              "      <td>False</td>\n",
              "      <td>False</td>\n",
              "    </tr>\n",
              "    <tr>\n",
              "      <th>33</th>\n",
              "      <td>False</td>\n",
              "      <td>False</td>\n",
              "    </tr>\n",
              "    <tr>\n",
              "      <th>34</th>\n",
              "      <td>False</td>\n",
              "      <td>False</td>\n",
              "    </tr>\n",
              "    <tr>\n",
              "      <th>35</th>\n",
              "      <td>False</td>\n",
              "      <td>False</td>\n",
              "    </tr>\n",
              "    <tr>\n",
              "      <th>36</th>\n",
              "      <td>False</td>\n",
              "      <td>False</td>\n",
              "    </tr>\n",
              "    <tr>\n",
              "      <th>37</th>\n",
              "      <td>False</td>\n",
              "      <td>False</td>\n",
              "    </tr>\n",
              "    <tr>\n",
              "      <th>38</th>\n",
              "      <td>False</td>\n",
              "      <td>False</td>\n",
              "    </tr>\n",
              "    <tr>\n",
              "      <th>39</th>\n",
              "      <td>False</td>\n",
              "      <td>False</td>\n",
              "    </tr>\n",
              "    <tr>\n",
              "      <th>40</th>\n",
              "      <td>False</td>\n",
              "      <td>False</td>\n",
              "    </tr>\n",
              "    <tr>\n",
              "      <th>41</th>\n",
              "      <td>False</td>\n",
              "      <td>False</td>\n",
              "    </tr>\n",
              "  </tbody>\n",
              "</table>\n",
              "</div>"
            ],
            "text/plain": [
              "    fires  thefts\n",
              "0   False   False\n",
              "1   False   False\n",
              "2   False   False\n",
              "3   False   False\n",
              "4   False   False\n",
              "5   False   False\n",
              "6   False   False\n",
              "7   False   False\n",
              "8   False   False\n",
              "9   False   False\n",
              "10  False   False\n",
              "11  False   False\n",
              "12  False   False\n",
              "13  False   False\n",
              "14  False   False\n",
              "15  False   False\n",
              "16  False   False\n",
              "17  False   False\n",
              "18  False   False\n",
              "19  False   False\n",
              "20  False   False\n",
              "21  False   False\n",
              "22  False   False\n",
              "23  False   False\n",
              "24  False   False\n",
              "25  False   False\n",
              "26  False   False\n",
              "27  False   False\n",
              "28  False   False\n",
              "29  False   False\n",
              "30  False   False\n",
              "31  False   False\n",
              "32  False   False\n",
              "33  False   False\n",
              "34  False   False\n",
              "35  False   False\n",
              "36  False   False\n",
              "37  False   False\n",
              "38  False   False\n",
              "39  False   False\n",
              "40  False   False\n",
              "41  False   False"
            ]
          },
          "metadata": {},
          "execution_count": 7
        }
      ]
    },
    {
      "cell_type": "code",
      "metadata": {
        "colab": {
          "base_uri": "https://localhost:8080/"
        },
        "id": "fV63c5N4570e",
        "outputId": "27ee33eb-1592-44cb-91e9-925f6e09326a"
      },
      "source": [
        "# How to recognize and Treat missing values and outliers in Pandas\n",
        "## Quality Check\n",
        "round(100*(data.isnull().sum()/len(data)),2).sort_values(ascending=False)"
      ],
      "execution_count": 8,
      "outputs": [
        {
          "output_type": "execute_result",
          "data": {
            "text/plain": [
              "thefts    0.0\n",
              "fires     0.0\n",
              "dtype: float64"
            ]
          },
          "metadata": {},
          "execution_count": 8
        }
      ]
    },
    {
      "cell_type": "code",
      "metadata": {
        "colab": {
          "base_uri": "https://localhost:8080/",
          "height": 295
        },
        "id": "t_YxexUW6STc",
        "outputId": "d7bec5aa-3302-4c5c-fc77-8bb923f8de61"
      },
      "source": [
        "# Since there are no missing or null values\n",
        "data.plot(kind = 'scatter', x = 'fires', y = 'thefts')\n",
        "plt.title('Fires and Thefts in Chicago')\n",
        "plt.show()"
      ],
      "execution_count": 9,
      "outputs": [
        {
          "output_type": "display_data",
          "data": {
            "image/png": "[encoded data removed]",
            "text/plain": [
              "<Figure size 432x288 with 1 Axes>"
            ]
          },
          "metadata": {
            "needs_background": "light"
          }
        }
      ]
    },
    {
      "cell_type": "code",
      "metadata": {
        "colab": {
          "base_uri": "https://localhost:8080/",
          "height": 295
        },
        "id": "cht4zsL7BLJN",
        "outputId": "dd24cdc3-0803-4fb4-acab-195f1e16f4e6"
      },
      "source": [
        "fig=plt.figure()\n",
        "ax = fig.add_subplot(1,1,1)\n",
        "ax.hist(data['fires'],bins = 5)\n",
        "plt.title('Fires and Thefts in Chicago')\n",
        "plt.xlabel('fires')\n",
        "plt.ylabel('thefts')\n",
        "plt.show()"
      ],
      "execution_count": 10,
      "outputs": [
        {
          "output_type": "display_data",
          "data": {
            "image/png": "[encoded data removed]",
            "text/plain": [
              "<Figure size 432x288 with 1 Axes>"
            ]
          },
          "metadata": {
            "needs_background": "light"
          }
        }
      ]
    },
    {
      "cell_type": "markdown",
      "metadata": {
        "id": "OpRqbqmHjcv_"
      },
      "source": [
        "### Correlations\n"
      ]
    },
    {
      "cell_type": "code",
      "metadata": {
        "colab": {
          "base_uri": "https://localhost:8080/"
        },
        "id": "3tOvaxuAjt42",
        "outputId": "1fe60d9b-c60f-4a45-a676-5b33c1975996"
      },
      "source": [
        "X = data[\"fires\"]\n",
        "Y = data[\"thefts\"]\n",
        "corr = X.corr(Y)\n",
        "corr"
      ],
      "execution_count": 11,
      "outputs": [
        {
          "output_type": "execute_result",
          "data": {
            "text/plain": [
              "0.5511213020718385"
            ]
          },
          "metadata": {},
          "execution_count": 11
        }
      ]
    },
    {
      "cell_type": "markdown",
      "metadata": {
        "id": "xdmXVlfKISe_"
      },
      "source": [
        "### Variability"
      ]
    },
    {
      "cell_type": "code",
      "metadata": {
        "colab": {
          "base_uri": "https://localhost:8080/"
        },
        "id": "_hcHwLA9HKOx",
        "outputId": "fa67c014-462b-4791-959d-8770261b71a5"
      },
      "source": [
        "y_test = data['thefts'].to_numpy()\n",
        "ymean = y_test.mean()\n",
        "yvar = np.sum(np.square(y_test-ymean))/y_test.size\n",
        "yvar"
      ],
      "execution_count": 12,
      "outputs": [
        {
          "output_type": "execute_result",
          "data": {
            "text/plain": [
              "518.2222222222222"
            ]
          },
          "metadata": {},
          "execution_count": 12
        }
      ]
    },
    {
      "cell_type": "code",
      "metadata": {
        "colab": {
          "base_uri": "https://localhost:8080/"
        },
        "id": "Nma1T6llHIlY",
        "outputId": "ddc3f1d5-c5b3-434e-d07c-b7c8b23a97d3"
      },
      "source": [
        "x_test = data.drop('thefts',axis=1).to_numpy().reshape(1,-1)\n",
        "xmean = x_test.mean()\n",
        "xvar = np.sum(np.square(x_test-xmean))/x_test.size\n",
        "xvar"
      ],
      "execution_count": 13,
      "outputs": [
        {
          "output_type": "execute_result",
          "data": {
            "text/plain": [
              "91.23875850340134"
            ]
          },
          "metadata": {},
          "execution_count": 13
        }
      ]
    },
    {
      "cell_type": "code",
      "metadata": {
        "colab": {
          "base_uri": "https://localhost:8080/"
        },
        "id": "1N_5t-UwHMfz",
        "outputId": "1ffee77f-cb26-4403-cf17-015102c4bfaa"
      },
      "source": [
        "variance = np.var(data)\n",
        "variance"
      ],
      "execution_count": 14,
      "outputs": [
        {
          "output_type": "execute_result",
          "data": {
            "text/plain": [
              "fires      91.238759\n",
              "thefts    518.222222\n",
              "dtype: float64"
            ]
          },
          "metadata": {},
          "execution_count": 14
        }
      ]
    },
    {
      "cell_type": "markdown",
      "metadata": {
        "id": "N-Mc1lE03q3v"
      },
      "source": [
        "# Problem 2\n",
        "## Lecture Requirement\n",
        "\n",
        "* TrashTakers Lecture Requirement: [Linear Regression](https://drive.google.com/file/d/1qCh8bBEWQRKKJ_Ko2S-b0HpZEx1_rtWI/view?usp=sharing)\n"
      ]
    },
    {
      "cell_type": "markdown",
      "metadata": {
        "id": "SuLQd78D3tC_"
      },
      "source": [
        "## Lab Requirement\n"
      ]
    },
    {
      "cell_type": "code",
      "metadata": {
        "id": "Io4upYW_74nm"
      },
      "source": [
        "class LinearRegression():\n",
        "    \n",
        "    def __init__(self):\n",
        "        self.model_ = 0\n",
        "        #self.pred = 0\n",
        "    \n",
        "    ## Pearsons_R\n",
        "    def pearsons_r(self, vectA, vectB):\n",
        "        cov_xy = np.cov(vectA,vectB, bias=True)[0,1]\n",
        "        std_x = np.std(vectA)\n",
        "        std_y = np.std(vectB)\n",
        "        return cov_xy / (std_x*std_y)\n",
        "    \n",
        "    ## Train\n",
        "    def train(self,X,y):\n",
        "        std_X, std_y = np.std(X), np.std(y)\n",
        "        rho = np.corrcoef(X,y)[0,1]\n",
        "        w1 = rho*(std_y/std_X)\n",
        "        w0 = y.mean()-w1*X.mean()\n",
        "        self.model_= np.array([w1, w0]).reshape(2,1)\n",
        "        return np.array([w1, w0]).reshape(2,1)\n",
        "    \n",
        "    ## Covariance\n",
        "    def covariance(self, vectA, vectB):\n",
        "        #vectA = vectA.reshape(1,-1)\n",
        "        return np.cov(vectA,vectB)[0,1]\n",
        "    \n",
        "    ## Predict\n",
        "    def predict(self, x):\n",
        "        std_X, std_y = np.std(X), np.std(y)\n",
        "        rho = np.corrcoef(X,y)[0,1]\n",
        "        w1 = rho*(std_y/std_X)\n",
        "        w0 = y.mean()-w1*X.mean()\n",
        "        self.pred = w0 + w1*x\n",
        "        return np.array(self.pred)\n",
        "    \n",
        "    ## Evaluate\n",
        "    def evaluate(self):\n",
        "        y_hat = self.predict(X)\n",
        "        sst=np.sum(np.square(y-y.mean()))\n",
        "        ssr=np.sum(np.square(y_hat-y.mean()))\n",
        "        sse=np.sum(np.square(y_hat-y))\n",
        "        mse=np.mean(np.square(y_hat-y))\n",
        "        rmse=np.sqrt(mse)\n",
        "        rss=1-sse/sst\n",
        "        arss=1-(((1-rss)*(y.size-1))/(y.size-1-1))\n",
        "        eval_dict ={'Measures of Error':['Sum of Squares Total', 'Sum of Squares Regression',\n",
        "                                        'Sum of Squares Error', 'Mean Squared Error', 'Root Mean Squared Error',\n",
        "                                        'R-Squared', 'Adjusted R-Squared'],\n",
        "                    'Values':[sst,ssr,sse,mse,rmse,rss,arss]\n",
        "                   }\n",
        "        df = pd.DataFrame(eval_dict)\n",
        "        return df\n",
        "    \n",
        "    ## Visualize -- the only problem ever\n",
        "    def visualize(self):\n",
        "        std_X = np.std(X)\n",
        "        std_y = np.std(y)\n",
        "        rho = np.corrcoef(X,y)[0,1]\n",
        "        w1 = rho*(std_y/std_X)\n",
        "        w0 = y.mean()-w1*X.mean()\n",
        "        model_= w0 + w1*X\n",
        "\n",
        "        plt.figure(figsize=(5,5), dpi=400)\n",
        "        plt.grid()\n",
        "        plt.plot(X, np.array(self.pred), color = 'red', linewidth = 2)\n",
        "        plt.scatter(X,y)\n",
        "        plt.show()\n",
        "        ##plt.plot(X, model_)\n",
        "        #plt.savefig(\"output.jpg\")"
      ],
      "execution_count": 15,
      "outputs": []
    },
    {
      "cell_type": "code",
      "metadata": {
        "id": "3ocPTFWT78W_"
      },
      "source": [
        "X1 = pd.read_csv(\"slr05.csv\")\n",
        "y = X1['Y'].to_numpy()\n",
        "X = X1.drop('Y',axis=1).to_numpy()\n",
        "X = X.reshape(1,-1)"
      ],
      "execution_count": 16,
      "outputs": []
    },
    {
      "cell_type": "markdown",
      "metadata": {
        "id": "EdNGKSCLIYsA"
      },
      "source": [
        "### Linear Regression Model"
      ]
    },
    {
      "cell_type": "code",
      "metadata": {
        "id": "e3TkZ0JM781S"
      },
      "source": [
        "regressor = LinearRegression()"
      ],
      "execution_count": 17,
      "outputs": []
    },
    {
      "cell_type": "code",
      "metadata": {
        "colab": {
          "base_uri": "https://localhost:8080/"
        },
        "id": "JBOo4WQcH_78",
        "outputId": "48a5fc0f-dd4c-417c-f8e8-150a97307426"
      },
      "source": [
        "r = regressor.pearsons_r(X,y)\n",
        "r"
      ],
      "execution_count": 18,
      "outputs": [
        {
          "output_type": "execute_result",
          "data": {
            "text/plain": [
              "0.5511213020718384"
            ]
          },
          "metadata": {},
          "execution_count": 18
        }
      ]
    },
    {
      "cell_type": "code",
      "metadata": {
        "colab": {
          "base_uri": "https://localhost:8080/"
        },
        "id": "ZZSt6_wF7-ZP",
        "outputId": "b75c72aa-7b18-45d7-ae11-e6cd7f064c23"
      },
      "source": [
        "R = regressor.covariance(X,y)\n",
        "R"
      ],
      "execution_count": 19,
      "outputs": [
        {
          "output_type": "execute_result",
          "data": {
            "text/plain": [
              "122.7609756097561"
            ]
          },
          "metadata": {},
          "execution_count": 19
        }
      ]
    },
    {
      "cell_type": "code",
      "metadata": {
        "colab": {
          "base_uri": "https://localhost:8080/"
        },
        "id": "6JJCWRA07_lN",
        "outputId": "eb4926d1-0792-46c5-c8c6-6f0e3edbf9f9"
      },
      "source": [
        "regressor.train(X,y)\n",
        "regressor.model_"
      ],
      "execution_count": 20,
      "outputs": [
        {
          "output_type": "execute_result",
          "data": {
            "text/plain": [
              "array([[ 1.313456  ],\n",
              "       [16.99515723]])"
            ]
          },
          "metadata": {},
          "execution_count": 20
        }
      ]
    },
    {
      "cell_type": "code",
      "metadata": {
        "colab": {
          "base_uri": "https://localhost:8080/"
        },
        "id": "Fd3-7688IHaG",
        "outputId": "85dac52e-3a70-45bf-f821-5bd12f9db28d"
      },
      "source": [
        "preds = regressor.predict(X)\n",
        "preds"
      ],
      "execution_count": 21,
      "outputs": [
        {
          "output_type": "execute_result",
          "data": {
            "text/plain": [
              "array([[25.13858446, 29.47298928, 30.78644528, 27.10876847, 28.29087888,\n",
              "        61.784007  , 31.44317329, 26.05800367, 26.58338607, 36.82834291,\n",
              "        55.21672698, 19.88476044, 24.48185646, 19.62206924, 20.27879725,\n",
              "        22.24898125, 24.08781966, 19.88476044, 26.45204047, 36.82834291,\n",
              "        38.66718131, 41.16274772, 64.54226461, 69.13936063, 41.29409332,\n",
              "        47.59868215, 33.01932049, 24.35051086, 45.62849814, 45.36580694,\n",
              "        28.81626128, 21.72359885, 23.56243726, 54.55999897, 39.84929172,\n",
              "        31.83721009, 21.46090765, 32.62528369, 30.78644528, 31.04913649,\n",
              "        31.18048209, 23.29974606]])"
            ]
          },
          "metadata": {},
          "execution_count": 21
        }
      ]
    },
    {
      "cell_type": "code",
      "metadata": {
        "colab": {
          "base_uri": "https://localhost:8080/",
          "height": 265
        },
        "id": "mVmpMlH78BOs",
        "outputId": "58d6aa61-7d42-4282-98a7-37e208c374b1"
      },
      "source": [
        "model_stats = regressor.evaluate()\n",
        "model_stats"
      ],
      "execution_count": 22,
      "outputs": [
        {
          "output_type": "execute_result",
          "data": {
            "text/html": [
              "<div>\n",
              "<style scoped>\n",
              "    .dataframe tbody tr th:only-of-type {\n",
              "        vertical-align: middle;\n",
              "    }\n",
              "\n",
              "    .dataframe tbody tr th {\n",
              "        vertical-align: top;\n",
              "    }\n",
              "\n",
              "    .dataframe thead th {\n",
              "        text-align: right;\n",
              "    }\n",
              "</style>\n",
              "<table border=\"1\" class=\"dataframe\">\n",
              "  <thead>\n",
              "    <tr style=\"text-align: right;\">\n",
              "      <th></th>\n",
              "      <th>Measures of Error</th>\n",
              "      <th>Values</th>\n",
              "    </tr>\n",
              "  </thead>\n",
              "  <tbody>\n",
              "    <tr>\n",
              "      <th>0</th>\n",
              "      <td>Sum of Squares Total</td>\n",
              "      <td>21765.333333</td>\n",
              "    </tr>\n",
              "    <tr>\n",
              "      <th>1</th>\n",
              "      <td>Sum of Squares Regression</td>\n",
              "      <td>6610.886764</td>\n",
              "    </tr>\n",
              "    <tr>\n",
              "      <th>2</th>\n",
              "      <td>Sum of Squares Error</td>\n",
              "      <td>15154.446569</td>\n",
              "    </tr>\n",
              "    <tr>\n",
              "      <th>3</th>\n",
              "      <td>Mean Squared Error</td>\n",
              "      <td>360.820156</td>\n",
              "    </tr>\n",
              "    <tr>\n",
              "      <th>4</th>\n",
              "      <td>Root Mean Squared Error</td>\n",
              "      <td>18.995267</td>\n",
              "    </tr>\n",
              "    <tr>\n",
              "      <th>5</th>\n",
              "      <td>R-Squared</td>\n",
              "      <td>0.303735</td>\n",
              "    </tr>\n",
              "    <tr>\n",
              "      <th>6</th>\n",
              "      <td>Adjusted R-Squared</td>\n",
              "      <td>0.286328</td>\n",
              "    </tr>\n",
              "  </tbody>\n",
              "</table>\n",
              "</div>"
            ],
            "text/plain": [
              "           Measures of Error        Values\n",
              "0       Sum of Squares Total  21765.333333\n",
              "1  Sum of Squares Regression   6610.886764\n",
              "2       Sum of Squares Error  15154.446569\n",
              "3         Mean Squared Error    360.820156\n",
              "4    Root Mean Squared Error     18.995267\n",
              "5                  R-Squared      0.303735\n",
              "6         Adjusted R-Squared      0.286328"
            ]
          },
          "metadata": {},
          "execution_count": 22
        }
      ]
    },
    {
      "cell_type": "code",
      "metadata": {
        "colab": {
          "base_uri": "https://localhost:8080/",
          "height": 1000
        },
        "id": "7xdLnLYY8Cs0",
        "outputId": "e4a94842-3eaa-41a9-a537-3ceb8b9affa5"
      },
      "source": [
        "regressor.visualize()"
      ],
      "execution_count": 23,
      "outputs": [
        {
          "output_type": "display_data",
          "data": {
            "image/png": "[encoded data removed]",
            "text/plain": [
              "<Figure size 2000x2000 with 1 Axes>"
            ]
          },
          "metadata": {
            "needs_background": "light"
          }
        }
      ]
    },
    {
      "cell_type": "markdown",
      "metadata": {
        "id": "VnoqqEUKKPDg"
      },
      "source": [
        "# Problem 3\n",
        "* Amamio Problem 3 Lecture Requirement: [Problem3_Amamio](https://drive.google.com/file/d/1SoeOXqYHnZVwy-n2cs2K5iQVWpXqLoob/view?usp=sharing)\n",
        "\n"
      ]
    }
  ]
}