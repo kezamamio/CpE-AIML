{
  "nbformat": 4,
  "nbformat_minor": 0,
  "metadata": {
    "colab": {
      "name": "58034_Lab05_TrashTakers",
      "provenance": [],
      "collapsed_sections": [
        "q44J0_qrxwjJ"
      ],
      "include_colab_link": true
    },
    "kernelspec": {
      "name": "python3",
      "display_name": "Python 3"
    },
    "language_info": {
      "name": "python"
    }
  },
  "cells": [
    {
      "cell_type": "markdown",
      "metadata": {
        "id": "view-in-github",
        "colab_type": "text"
      },
      "source": [
        "<a href=\"https://colab.research.google.com/github/kezamamio/CpE-AIML/blob/main/58034_Lab05_TrashTakers/58034_Lab05_TrashTakers.ipynb\" target=\"_parent\"><img src=\"https://colab.research.google.com/assets/colab-badge.svg\" alt=\"Open In Colab\"/></a>"
      ]
    },
    {
      "cell_type": "markdown",
      "metadata": {
        "id": "m1Evgke-ClXZ"
      },
      "source": [
        "# Topic 05.1: Classification\n",
        "$_{\\text{©D.J. Lopez | 2021 | Fundamentals of Machine Learning}}$\n",
        "\n",
        "Another vital activity of Machine Learning is Classification. In this module we are going to understand the concepts and applications of classification in machine learning. In this module, we are going to discuss:\n",
        "* Linear Classification\n",
        "* Logistic Regression"
      ]
    },
    {
      "cell_type": "code",
      "metadata": {
        "id": "7dJHlNdAedsN"
      },
      "source": [
        "import numpy as np\n",
        "import matplotlib.pyplot as plt\n",
        "import seaborn as sns"
      ],
      "execution_count": null,
      "outputs": []
    },
    {
      "cell_type": "markdown",
      "metadata": {
        "id": "Xn_zwq2yQaXi"
      },
      "source": [
        "# Part 1: Creating a Dataset\n",
        "In Classification activities datasets should again include features and targets. The difference of the targets for classification from regression is that they are now categorical.A classification activity can either be working on a single class or multiple classes. Classification activities that are only categorizing single classes uses **Binary Classification** while those having multiple classes uses **Categorical Classification** or **Multi-class Classification**."
      ]
    },
    {
      "cell_type": "code",
      "metadata": {
        "colab": {
          "base_uri": "https://localhost:8080/",
          "height": 279
        },
        "id": "4--e10wBfERS",
        "outputId": "36952ee4-e983-4a8c-cf98-11c920e60e77"
      },
      "source": [
        "### In thise example we will be creating a dummy dataset for a binary classifier\n",
        "\n",
        "N = 100 ## total number of datapoints\n",
        "cov = -0.30 ## covariance of X and y\n",
        "center1 = np.array([2, 0]).T ## midpoint of the gaussian distribution\n",
        "cov_mat1 = np.array([\n",
        "                    [1,cov],\n",
        "                    [cov,1]\n",
        "])\n",
        "np.random.seed(0)\n",
        "dataset = np.array(np.random.multivariate_normal(center1,cov_mat1,int(N/2)))\n",
        "## create a single two-variable gaussian distribution\n",
        "\n",
        "plt.scatter(dataset[:,0],dataset[:,1])\n",
        "plt.ylabel(\"Some Target\")\n",
        "plt.xlabel(\"Some Feature\")\n",
        "plt.grid()\n",
        "plt.show()\n"
      ],
      "execution_count": null,
      "outputs": [
        {
          "output_type": "display_data",
          "data": {
            "image/png": "[encoded data removed]",
            "text/plain": [
              "<Figure size 432x288 with 1 Axes>"
            ]
          },
          "metadata": {
            "needs_background": "light"
          }
        }
      ]
    },
    {
      "cell_type": "code",
      "metadata": {
        "colab": {
          "base_uri": "https://localhost:8080/",
          "height": 497
        },
        "id": "NhOLEuoCg6Vg",
        "outputId": "b0a0b114-8069-4770-dbeb-3e3a3aca0bc1"
      },
      "source": [
        "## Now lets try to create two different distributions\n",
        "## let's assume that each gaussian distribution is a class of its own\n",
        "N = 100\n",
        "cov = 0\n",
        "center1 = np.array([0, 1.7]).T\n",
        "cov_mat1 = np.array([\n",
        "                    [1,cov],\n",
        "                    [cov,1]\n",
        "])\n",
        "\n",
        "center2 = np.array([0, -1.7]).T\n",
        "cov_mat2 = np.array([\n",
        "                    [1,cov],\n",
        "                    [cov,1]\n",
        "])\n",
        "\n",
        "np.random.seed(0)\n",
        "X1 = np.array(np.random.multivariate_normal(center1,cov_mat1,int(N/2)))\n",
        "X2 = np.array(np.random.multivariate_normal(center2,cov_mat2,int(N/2)))\n",
        "## We'll declare another gaussian distribution with a different mean\n",
        "\n",
        "plt.figure(figsize=(8,8))\n",
        "plt.scatter(X1[:,0],X1[:,1], c='r', label='1')\n",
        "plt.scatter(X2[:,0],X2[:,1], c='b', label='0')\n",
        "plt.ylabel(\"Some Target\")\n",
        "plt.xlabel(\"Some Feature\")\n",
        "plt.legend()\n",
        "plt.grid()\n",
        "plt.show()"
      ],
      "execution_count": null,
      "outputs": [
        {
          "output_type": "display_data",
          "data": {
            "image/png": "[encoded data removed]",
            "text/plain": [
              "<Figure size 576x576 with 1 Axes>"
            ]
          },
          "metadata": {
            "needs_background": "light"
          }
        }
      ]
    },
    {
      "cell_type": "code",
      "metadata": {
        "id": "CIqM0VyJeoyw"
      },
      "source": [
        "### Label the datasets programmatically\n",
        "X1 = np.append(X1,np.ones((X1.shape[0],1)),axis=1)\n",
        "X2 = np.append(X2,np.zeros((X2.shape[0],1)),axis=1)\n",
        "\n",
        "### Combine to a single dataset\n",
        "X_train = np.vstack((X1,X2))\n",
        "np.random.shuffle(X_train)"
      ],
      "execution_count": null,
      "outputs": []
    },
    {
      "cell_type": "code",
      "metadata": {
        "id": "jEf7iPGVjtoR"
      },
      "source": [
        "def visualize(X):\n",
        "  plt.figure(figsize=(8,8))\n",
        "  color = ['red','blue']\n",
        "  plt.scatter(X[:,0], X[:,1],c=X[:,2], cmap='jet')\n",
        "  plt.xlabel('Feature')\n",
        "  plt.ylabel('Target')"
      ],
      "execution_count": null,
      "outputs": []
    },
    {
      "cell_type": "code",
      "metadata": {
        "colab": {
          "base_uri": "https://localhost:8080/",
          "height": 497
        },
        "id": "Y4UvWVWWkjAa",
        "outputId": "8a42d1fc-a52b-4078-bff5-f058ba1c9d97"
      },
      "source": [
        "visualize(X_train)"
      ],
      "execution_count": null,
      "outputs": [
        {
          "output_type": "display_data",
          "data": {
            "image/png": "[encoded data removed]",
            "text/plain": [
              "<Figure size 576x576 with 1 Axes>"
            ]
          },
          "metadata": {
            "needs_background": "light"
          }
        }
      ]
    },
    {
      "cell_type": "code",
      "metadata": {
        "colab": {
          "base_uri": "https://localhost:8080/"
        },
        "id": "xxiPIACHm6Xq",
        "outputId": "30cc29a2-f457-478d-cece-e9b70428238b"
      },
      "source": [
        "### Creating a Binary Linear Classifier using Least Squares\n",
        "\n",
        "## Set the data for the dataset\n",
        "X = X_train[:,0:2]\n",
        "X = np.hstack((X,np.ones((X_train.shape[0], 1))))\n",
        "y = X_train[:,2].reshape(-1,1)\n",
        "\n",
        "## Compute for the weights\n",
        "pseudo_inv = np.linalg.inv(X.T @ X)\n",
        "weights = pseudo_inv @ (X.T @ y)\n",
        "weights"
      ],
      "execution_count": null,
      "outputs": [
        {
          "output_type": "execute_result",
          "data": {
            "text/plain": [
              "array([[0.00739642],\n",
              "       [0.2192233 ],\n",
              "       [0.46870667]])"
            ]
          },
          "metadata": {},
          "execution_count": 134
        }
      ]
    },
    {
      "cell_type": "code",
      "metadata": {
        "colab": {
          "base_uri": "https://localhost:8080/",
          "height": 497
        },
        "id": "QXs0K_WToJWC",
        "outputId": "f7f2bec7-4352-441e-cd90-c807df7987a8"
      },
      "source": [
        "## Visualize\n",
        "def class_plot(X, y, weights):\n",
        "  plt.figure(figsize=(8,8))\n",
        "\n",
        "  xmin, xmax = X[:,1].min()-1, X[:,1].max()+1\n",
        "  xaxis = np.linspace(xmin,xmax)\n",
        "  yaxis = -weights[0]/weights[-1] - (weights[1]/weights[-1])*xaxis\n",
        "\n",
        "  plt.scatter(X[:,0], X[:,1],c=y, cmap='jet')\n",
        "  plt.plot(xaxis,yaxis, label='decision boundary') \n",
        "\n",
        "  plt.legend()\n",
        "  plt.grid()\n",
        "  plt.xlabel('Feature')\n",
        "  plt.ylabel('Target')\n",
        "  plt.show()  \n",
        "\n",
        "class_plot(X,y,weights)"
      ],
      "execution_count": null,
      "outputs": [
        {
          "output_type": "display_data",
          "data": {
            "image/png": "[encoded data removed]",
            "text/plain": [
              "<Figure size 576x576 with 1 Axes>"
            ]
          },
          "metadata": {
            "needs_background": "light"
          }
        }
      ]
    },
    {
      "cell_type": "code",
      "metadata": {
        "colab": {
          "base_uri": "https://localhost:8080/"
        },
        "id": "tVt0iAMFw0y0",
        "outputId": "cde591c9-4466-4b53-e4ad-cb1eabbb7cea"
      },
      "source": [
        "## Create an inference instance to make predictions\n",
        "infer = lambda X : np.round(X@weights)\n",
        "X_test = np.array([0,2,1]) \n",
        "infer(X_test)"
      ],
      "execution_count": null,
      "outputs": [
        {
          "output_type": "execute_result",
          "data": {
            "text/plain": [
              "array([1.])"
            ]
          },
          "metadata": {},
          "execution_count": 152
        }
      ]
    },
    {
      "cell_type": "markdown",
      "metadata": {
        "id": "aGAh1Rw3ye2U"
      },
      "source": [
        "# Part 2: Metrics\n",
        "Just like any machine learning activity we need to determine its measures of robustness and success. In this section we will be identifying the error and explainability of models. We will be implementing `sklearn` for determining the necessary metrics."
      ]
    },
    {
      "cell_type": "code",
      "metadata": {
        "id": "8ioU5wpn_Dsf"
      },
      "source": [
        "from sklearn import metrics"
      ],
      "execution_count": null,
      "outputs": []
    },
    {
      "cell_type": "markdown",
      "metadata": {
        "id": "SL8ZGXsUyjAF"
      },
      "source": [
        "## 2.1 Error\n",
        "Just like in regression, we measure the robustness of a machine learning model. The most common loss function in classification by getting its vector norm. We generally formulate the vector norm as:\n",
        "$$J = ((y-\\hat{y})^N)^{-\\frac{1}{N}}$$\n",
        "Whereas $E$ is the norm or the cost of the model, $y$ is the targets, $\\hat{y}$ are the predictions, and $N$ is the dimension of the distance. The most common norm is the Euclidean norm having $N=2$."
      ]
    },
    {
      "cell_type": "code",
      "metadata": {
        "colab": {
          "base_uri": "https://localhost:8080/"
        },
        "id": "Xm45Q2GtyckE",
        "outputId": "a320e659-eae1-4e7a-a235-e4033aaef322"
      },
      "source": [
        "### L2 Error\n",
        "preds = infer(X)\n",
        "residuals = y - preds\n",
        "l2_error = np.sqrt(np.sum(np.square(residuals)))\n",
        "l2_error"
      ],
      "execution_count": null,
      "outputs": [
        {
          "output_type": "execute_result",
          "data": {
            "text/plain": [
              "2.23606797749979"
            ]
          },
          "metadata": {},
          "execution_count": 153
        }
      ]
    },
    {
      "cell_type": "markdown",
      "metadata": {
        "id": "lIfP6UBgy7qs"
      },
      "source": [
        "## 2.2 Explainability\n",
        "Classification will use a different approach for determining the explainability since we are dealing with categorical predictions rather than continuous. Here we use:\n",
        "* Accuracy\n",
        "* Precision\n",
        "* Recall\n",
        "* F1-Score"
      ]
    },
    {
      "cell_type": "code",
      "metadata": {
        "colab": {
          "base_uri": "https://localhost:8080/"
        },
        "id": "yQe79E1Py7J7",
        "outputId": "16455cdd-c442-47ba-c564-a6906702800a"
      },
      "source": [
        "### Accuracy\n",
        "accuracy = 1-np.mean(np.abs(residuals))\n",
        "accuracy"
      ],
      "execution_count": null,
      "outputs": [
        {
          "output_type": "execute_result",
          "data": {
            "text/plain": [
              "0.95"
            ]
          },
          "metadata": {},
          "execution_count": 154
        }
      ]
    },
    {
      "cell_type": "code",
      "metadata": {
        "colab": {
          "base_uri": "https://localhost:8080/"
        },
        "id": "sHAV15O0_GhH",
        "outputId": "b12e02eb-0275-4520-9aab-46337d3a98e1"
      },
      "source": [
        "metrics.accuracy_score(y,preds)"
      ],
      "execution_count": null,
      "outputs": [
        {
          "output_type": "execute_result",
          "data": {
            "text/plain": [
              "0.95"
            ]
          },
          "metadata": {},
          "execution_count": 170
        }
      ]
    },
    {
      "cell_type": "code",
      "metadata": {
        "colab": {
          "base_uri": "https://localhost:8080/",
          "height": 279
        },
        "id": "4ZWIz8AKzz-e",
        "outputId": "437e4db4-bb45-4318-906a-37c905b03f25"
      },
      "source": [
        "### Confusion Matrix\n",
        "\n",
        "conf_mat = confusion_matrix(y, preds)\n",
        "sns.heatmap(conf_mat, annot=True)\n",
        "plt.xlabel(\"Predicted\")\n",
        "plt.ylabel(\"Ground Truth\")\n",
        "plt.show()"
      ],
      "execution_count": null,
      "outputs": [
        {
          "output_type": "display_data",
          "data": {
            "image/png": "[encoded data removed]",
            "text/plain": [
              "<Figure size 432x288 with 2 Axes>"
            ]
          },
          "metadata": {
            "needs_background": "light"
          }
        }
      ]
    },
    {
      "cell_type": "code",
      "metadata": {
        "colab": {
          "base_uri": "https://localhost:8080/"
        },
        "id": "o4jg0BnD4a7d",
        "outputId": "e977f4c9-05c2-4034-d4ec-6674c561dfb5"
      },
      "source": [
        "conf_mat"
      ],
      "execution_count": null,
      "outputs": [
        {
          "output_type": "execute_result",
          "data": {
            "text/plain": [
              "array([[47,  3],\n",
              "       [ 2, 48]])"
            ]
          },
          "metadata": {},
          "execution_count": 159
        }
      ]
    },
    {
      "cell_type": "code",
      "metadata": {
        "id": "2SpBgLrH3wh-"
      },
      "source": [
        "true_neg = conf_mat[0,0]\n",
        "false_pos = conf_mat[0,1]\n",
        "false_neg = conf_mat[1,0]\n",
        "true_neg = conf_mat[1,1]"
      ],
      "execution_count": null,
      "outputs": []
    },
    {
      "cell_type": "code",
      "metadata": {
        "colab": {
          "base_uri": "https://localhost:8080/"
        },
        "id": "2zm8uw2x1Eq1",
        "outputId": "47eacd96-b729-4f42-dc9a-0f826b38cc1b"
      },
      "source": [
        "## Precision\n",
        "precision = true_pos/(true_pos+false_pos)\n",
        "precision"
      ],
      "execution_count": null,
      "outputs": [
        {
          "output_type": "execute_result",
          "data": {
            "text/plain": [
              "0.94"
            ]
          },
          "metadata": {},
          "execution_count": 163
        }
      ]
    },
    {
      "cell_type": "code",
      "metadata": {
        "colab": {
          "base_uri": "https://localhost:8080/"
        },
        "id": "YPFUjh-1_XAn",
        "outputId": "e1b8d9be-c841-4d31-8e23-e5f47a99ae47"
      },
      "source": [
        "metrics.precision_score(y, preds)"
      ],
      "execution_count": null,
      "outputs": [
        {
          "output_type": "execute_result",
          "data": {
            "text/plain": [
              "0.9411764705882353"
            ]
          },
          "metadata": {},
          "execution_count": 172
        }
      ]
    },
    {
      "cell_type": "code",
      "metadata": {
        "colab": {
          "base_uri": "https://localhost:8080/"
        },
        "id": "Zpe3lgos3roO",
        "outputId": "cac8f455-f878-459d-b39a-01305eba4ee0"
      },
      "source": [
        "## Recall\n",
        "recall = true_pos/(true_pos+false_neg)\n",
        "recall"
      ],
      "execution_count": null,
      "outputs": [
        {
          "output_type": "execute_result",
          "data": {
            "text/plain": [
              "0.9591836734693877"
            ]
          },
          "metadata": {},
          "execution_count": 164
        }
      ]
    },
    {
      "cell_type": "code",
      "metadata": {
        "colab": {
          "base_uri": "https://localhost:8080/"
        },
        "id": "NDYDUFze_cgZ",
        "outputId": "044e420d-ed87-4625-aaf7-3fe204f9722f"
      },
      "source": [
        "metrics.recall_score(y,preds)"
      ],
      "execution_count": null,
      "outputs": [
        {
          "output_type": "execute_result",
          "data": {
            "text/plain": [
              "0.96"
            ]
          },
          "metadata": {},
          "execution_count": 173
        }
      ]
    },
    {
      "cell_type": "code",
      "metadata": {
        "colab": {
          "base_uri": "https://localhost:8080/"
        },
        "id": "VNbcFdev8n1I",
        "outputId": "ac3a0d0f-c61c-4c24-af32-2c6822447b59"
      },
      "source": [
        "## F1-Score\n",
        "F1 = 2*(precision*recall)/(precision+recall)\n",
        "F1"
      ],
      "execution_count": null,
      "outputs": [
        {
          "output_type": "execute_result",
          "data": {
            "text/plain": [
              "0.9494949494949495"
            ]
          },
          "metadata": {},
          "execution_count": 165
        }
      ]
    },
    {
      "cell_type": "code",
      "metadata": {
        "colab": {
          "base_uri": "https://localhost:8080/"
        },
        "id": "7rI1_81M_qZ3",
        "outputId": "fae8ecba-7af0-43a2-a5c6-403d712a1950"
      },
      "source": [
        "metrics.f1_score(y,preds)"
      ],
      "execution_count": null,
      "outputs": [
        {
          "output_type": "execute_result",
          "data": {
            "text/plain": [
              "0.9504950495049505"
            ]
          },
          "metadata": {},
          "execution_count": 174
        }
      ]
    },
    {
      "cell_type": "markdown",
      "metadata": {
        "id": "Ef1tvsm8uLvC"
      },
      "source": [
        "# Part 3: Logistic Regression\n",
        "Logistic regression determines a relationship between predictor variables and a categorical target. Logistic regression can be used mainly in classification problems in machine learning where it determines the probability of an input being inclusive of a certain class or category. Logistic regression is mainly used in binary classification but it can be extended in multiple category classfication."
      ]
    },
    {
      "cell_type": "code",
      "metadata": {
        "id": "hH3nnrwauLbC"
      },
      "source": [
        "import pandas as pd\n",
        "from sklearn.linear_model import LogisticRegression"
      ],
      "execution_count": null,
      "outputs": []
    },
    {
      "cell_type": "code",
      "metadata": {
        "colab": {
          "base_uri": "https://localhost:8080/",
          "height": 203
        },
        "id": "NTWehnvL_rsK",
        "outputId": "3b78885a-0a4f-4de9-b656-9502d891c370"
      },
      "source": [
        "df_admit = pd.read_csv('/content/admitance-sats.csv')\n",
        "df_admit.head(5)"
      ],
      "execution_count": null,
      "outputs": [
        {
          "output_type": "execute_result",
          "data": {
            "text/html": [
              "<div>\n",
              "<style scoped>\n",
              "    .dataframe tbody tr th:only-of-type {\n",
              "        vertical-align: middle;\n",
              "    }\n",
              "\n",
              "    .dataframe tbody tr th {\n",
              "        vertical-align: top;\n",
              "    }\n",
              "\n",
              "    .dataframe thead th {\n",
              "        text-align: right;\n",
              "    }\n",
              "</style>\n",
              "<table border=\"1\" class=\"dataframe\">\n",
              "  <thead>\n",
              "    <tr style=\"text-align: right;\">\n",
              "      <th></th>\n",
              "      <th>SAT</th>\n",
              "      <th>Admitted</th>\n",
              "    </tr>\n",
              "  </thead>\n",
              "  <tbody>\n",
              "    <tr>\n",
              "      <th>0</th>\n",
              "      <td>1363</td>\n",
              "      <td>0</td>\n",
              "    </tr>\n",
              "    <tr>\n",
              "      <th>1</th>\n",
              "      <td>1792</td>\n",
              "      <td>1</td>\n",
              "    </tr>\n",
              "    <tr>\n",
              "      <th>2</th>\n",
              "      <td>1954</td>\n",
              "      <td>1</td>\n",
              "    </tr>\n",
              "    <tr>\n",
              "      <th>3</th>\n",
              "      <td>1653</td>\n",
              "      <td>0</td>\n",
              "    </tr>\n",
              "    <tr>\n",
              "      <th>4</th>\n",
              "      <td>1593</td>\n",
              "      <td>0</td>\n",
              "    </tr>\n",
              "  </tbody>\n",
              "</table>\n",
              "</div>"
            ],
            "text/plain": [
              "    SAT  Admitted\n",
              "0  1363         0\n",
              "1  1792         1\n",
              "2  1954         1\n",
              "3  1653         0\n",
              "4  1593         0"
            ]
          },
          "metadata": {},
          "execution_count": 4
        }
      ]
    },
    {
      "cell_type": "code",
      "metadata": {
        "id": "BjnHRn6X_zQY"
      },
      "source": [
        "X = df_admit['SAT'].to_numpy().reshape((-1,1))\n",
        "y = df_admit['Admitted'].to_numpy().reshape((-1,1))"
      ],
      "execution_count": null,
      "outputs": []
    },
    {
      "cell_type": "code",
      "metadata": {
        "colab": {
          "base_uri": "https://localhost:8080/"
        },
        "id": "oSbnzG_tAELi",
        "outputId": "aae86e67-84ba-4f19-9145-4aa80f244aeb"
      },
      "source": [
        "log_model = LogisticRegression(random_state=0)\n",
        "log_model.fit(X,y)"
      ],
      "execution_count": null,
      "outputs": [
        {
          "output_type": "stream",
          "name": "stderr",
          "text": [
            "/usr/local/lib/python3.7/dist-packages/sklearn/utils/validation.py:760: DataConversionWarning: A column-vector y was passed when a 1d array was expected. Please change the shape of y to (n_samples, ), for example using ravel().\n",
            "  y = column_or_1d(y, warn=True)\n"
          ]
        },
        {
          "output_type": "execute_result",
          "data": {
            "text/plain": [
              "LogisticRegression(C=1.0, class_weight=None, dual=False, fit_intercept=True,\n",
              "                   intercept_scaling=1, l1_ratio=None, max_iter=100,\n",
              "                   multi_class='auto', n_jobs=None, penalty='l2',\n",
              "                   random_state=0, solver='lbfgs', tol=0.0001, verbose=0,\n",
              "                   warm_start=False)"
            ]
          },
          "metadata": {},
          "execution_count": 7
        }
      ]
    },
    {
      "cell_type": "code",
      "metadata": {
        "id": "O4ZGn9N5ALfQ"
      },
      "source": [
        "preds = log_model.predict(X)"
      ],
      "execution_count": null,
      "outputs": []
    },
    {
      "cell_type": "code",
      "metadata": {
        "colab": {
          "base_uri": "https://localhost:8080/",
          "height": 265
        },
        "id": "KhcVwdx6ARVh",
        "outputId": "c94da422-e0ed-4f31-a4ed-e562e38c9eeb"
      },
      "source": [
        "plt.scatter(X,y, color='red')\n",
        "plt.scatter(X,preds, color='green')\n",
        "plt.grid()"
      ],
      "execution_count": null,
      "outputs": [
        {
          "output_type": "display_data",
          "data": {
            "image/png": "[encoded data removed]",
            "text/plain": [
              "<Figure size 432x288 with 1 Axes>"
            ]
          },
          "metadata": {
            "needs_background": "light"
          }
        }
      ]
    },
    {
      "cell_type": "code",
      "metadata": {
        "colab": {
          "base_uri": "https://localhost:8080/",
          "height": 279
        },
        "id": "R9lnJ7HuAqEY",
        "outputId": "d0e4e551-1ded-4912-fa70-3bdb05b2d202"
      },
      "source": [
        "conf_mat = metrics.confusion_matrix(y, preds)\n",
        "sns.heatmap(conf_mat, annot=True)\n",
        "plt.xlabel(\"Predicted\")\n",
        "plt.ylabel(\"Ground Truth\")\n",
        "plt.show()"
      ],
      "execution_count": null,
      "outputs": [
        {
          "output_type": "display_data",
          "data": {
            "image/png": "[encoded data removed]",
            "text/plain": [
              "<Figure size 432x288 with 2 Axes>"
            ]
          },
          "metadata": {
            "needs_background": "light"
          }
        }
      ]
    },
    {
      "cell_type": "code",
      "metadata": {
        "colab": {
          "base_uri": "https://localhost:8080/",
          "height": 80
        },
        "id": "8pfd2JDgA7Nx",
        "outputId": "a9245805-42a5-4cd6-c6bd-6b012abcd4e8"
      },
      "source": [
        "class_metrics = {\n",
        "    'accuracy': [metrics.accuracy_score(y, preds)],\n",
        "    'precision': [metrics.precision_score(y, preds)],\n",
        "    'recall': [metrics.recall_score(y,preds)],\n",
        "    'f1-score': [metrics.f1_score(y, preds)]\n",
        "}\n",
        "pd.DataFrame(class_metrics)"
      ],
      "execution_count": null,
      "outputs": [
        {
          "output_type": "execute_result",
          "data": {
            "text/html": [
              "<div>\n",
              "<style scoped>\n",
              "    .dataframe tbody tr th:only-of-type {\n",
              "        vertical-align: middle;\n",
              "    }\n",
              "\n",
              "    .dataframe tbody tr th {\n",
              "        vertical-align: top;\n",
              "    }\n",
              "\n",
              "    .dataframe thead th {\n",
              "        text-align: right;\n",
              "    }\n",
              "</style>\n",
              "<table border=\"1\" class=\"dataframe\">\n",
              "  <thead>\n",
              "    <tr style=\"text-align: right;\">\n",
              "      <th></th>\n",
              "      <th>accuracy</th>\n",
              "      <th>precision</th>\n",
              "      <th>recall</th>\n",
              "      <th>f1-score</th>\n",
              "    </tr>\n",
              "  </thead>\n",
              "  <tbody>\n",
              "    <tr>\n",
              "      <th>0</th>\n",
              "      <td>0.916667</td>\n",
              "      <td>0.925532</td>\n",
              "      <td>0.925532</td>\n",
              "      <td>0.925532</td>\n",
              "    </tr>\n",
              "  </tbody>\n",
              "</table>\n",
              "</div>"
            ],
            "text/plain": [
              "   accuracy  precision    recall  f1-score\n",
              "0  0.916667   0.925532  0.925532  0.925532"
            ]
          },
          "metadata": {},
          "execution_count": 22
        }
      ]
    },
    {
      "cell_type": "markdown",
      "metadata": {
        "id": "TLzh0eoBgRPz"
      },
      "source": [
        "# Laboratory Activity"
      ]
    },
    {
      "cell_type": "markdown",
      "metadata": {
        "id": "Zv5O_5ebxH-A"
      },
      "source": [
        "## Problem 1\n",
        "\n",
        "* TrashTakers: [Insurance Dataset - Purpose, Needs Statement, and Significance](https://drive.google.com/file/d/1jv9ahJE7y3yEnNk3kCUEQYUulKtHSEgG/view?usp=sharing)\n"
      ]
    },
    {
      "cell_type": "markdown",
      "metadata": {
        "id": "q44J0_qrxwjJ"
      },
      "source": [
        "## Problem 2\n",
        "* TrashTakers Algorithm: [Insurance Dataset - Algorithm](https://drive.google.com/file/d/17PFEd4xYzt0VKIq9qH_Fkkse7y8-Nv_K/view?usp=sharing)"
      ]
    },
    {
      "cell_type": "markdown",
      "metadata": {
        "id": "JLcOfpTax89-"
      },
      "source": [
        "## Solution "
      ]
    },
    {
      "cell_type": "code",
      "metadata": {
        "id": "Mn1-CJ_hWY0G"
      },
      "source": [
        "import pandas as pd\n",
        "import seaborn as sns\n",
        "import numpy as np\n",
        "from sklearn.metrics import confusion_matrix\n",
        "from sklearn import metrics\n",
        "from matplotlib import pyplot as plt\n",
        "from sklearn.linear_model import LogisticRegression"
      ],
      "execution_count": null,
      "outputs": []
    },
    {
      "cell_type": "code",
      "metadata": {
        "id": "5DKJ0EXkWbUJ"
      },
      "source": [
        "class LogistRegression():\n",
        "\n",
        "  def train(self, X, y):\n",
        "    model = LogisticRegression(solver='liblinear', random_state=0).fit(X, y)\n",
        "  \n",
        "  def predict(self, X):\n",
        "    model = LogisticRegression(solver='liblinear', random_state=0).fit(X, y)\n",
        "    self.preds = model.predict(X)\n",
        "    return self.preds\n",
        "    \n",
        "  ## to indicate the value of m in slope formula\n",
        "  def coefficients(self, X):\n",
        "    model = LogisticRegression(solver='liblinear', random_state=0).fit(X, y)\n",
        "    coefficient = model.coef_\n",
        "    return coefficient\n",
        "  \n",
        "  ## to indicate the value of b in slope formula\n",
        "  def intercepts(self, X):\n",
        "    model = LogisticRegression(solver='liblinear', random_state=0).fit(X, y)\n",
        "    intercept = model.intercept_\n",
        "    return intercept\n",
        "\n",
        "  def evaluate(self, X, y):\n",
        "    preds = self.preds\n",
        "    residuals = y - preds\n",
        "    l2_error = np.sqrt(np.sum(np.square(residuals)))\n",
        "    accuracy = metrics.accuracy_score(y,preds)\n",
        "    precision = metrics.precision_score(y, preds)\n",
        "    recall = metrics.recall_score(y,preds)\n",
        "    F1 = metrics.f1_score(y,preds)\n",
        "    eval_dict ={'Metrics':['L2 Error', 'Accuracy', 'Precision', 'Recall', 'F1 - Score',],\n",
        "                'Values':[l2_error,accuracy,precision,recall,F1]\n",
        "               }\n",
        "    df = pd.DataFrame(eval_dict)\n",
        "    return df\n",
        "\n",
        "  def visualize(self,X,y):\n",
        "    #scatter plot\n",
        "    plt.figure(1)\n",
        "    plt.scatter(X,y, color='red')\n",
        "    plt.scatter(X,self.preds, color='green')\n",
        "    plt.grid()\n",
        "\n",
        "    #heatmap\n",
        "    plt.figure(2)\n",
        "    conf_mat = confusion_matrix(y, self.preds)\n",
        "    sns.heatmap(conf_mat, annot=True)\n",
        "    \n",
        "    plt.xlabel(\"Predicted\")\n",
        "    plt.ylabel(\"Ground Truth\")\n",
        "    plt.show()"
      ],
      "execution_count": null,
      "outputs": []
    },
    {
      "cell_type": "code",
      "metadata": {
        "id": "b2zw3P3CWegh"
      },
      "source": [
        "df = pd.read_csv(\"/content/insurance_data.csv\")\n",
        "X = df['age'].to_numpy().reshape((-1,1))\n",
        "y = df['bought_insurance'].to_numpy()"
      ],
      "execution_count": null,
      "outputs": []
    },
    {
      "cell_type": "code",
      "metadata": {
        "id": "0XEMLX9cWel7"
      },
      "source": [
        "classification = LogistRegression()"
      ],
      "execution_count": null,
      "outputs": []
    },
    {
      "cell_type": "code",
      "metadata": {
        "id": "DbokiN2nWhJR"
      },
      "source": [
        "classification.train(X,y)"
      ],
      "execution_count": null,
      "outputs": []
    },
    {
      "cell_type": "code",
      "metadata": {
        "id": "xtF429NCWiyS",
        "colab": {
          "base_uri": "https://localhost:8080/"
        },
        "outputId": "c2393a5c-727e-4007-cd54-e4851454ee4d"
      },
      "source": [
        "classification.predict(X)"
      ],
      "execution_count": null,
      "outputs": [
        {
          "output_type": "execute_result",
          "data": {
            "text/plain": [
              "array([0, 0, 1, 1, 1, 1, 1, 1, 1, 1, 0, 0, 0, 0, 1, 1, 0, 1, 0, 0, 0, 0,\n",
              "       1, 1, 1, 1, 0])"
            ]
          },
          "metadata": {},
          "execution_count": 15
        }
      ]
    },
    {
      "cell_type": "code",
      "metadata": {
        "id": "vNXJrk0dWjtG",
        "colab": {
          "base_uri": "https://localhost:8080/"
        },
        "outputId": "64fa1c4e-2bae-429f-bc24-c7d087a8f03b"
      },
      "source": [
        "classification.coefficients(X)"
      ],
      "execution_count": null,
      "outputs": [
        {
          "output_type": "execute_result",
          "data": {
            "text/plain": [
              "array([[0.05589224]])"
            ]
          },
          "metadata": {},
          "execution_count": 16
        }
      ]
    },
    {
      "cell_type": "code",
      "metadata": {
        "id": "sto5F3sBWkyF",
        "colab": {
          "base_uri": "https://localhost:8080/"
        },
        "outputId": "ea5f7c6b-a781-4ab0-93a3-a0a393ef650f"
      },
      "source": [
        "classification.intercepts(X)"
      ],
      "execution_count": null,
      "outputs": [
        {
          "output_type": "execute_result",
          "data": {
            "text/plain": [
              "array([-1.80953063])"
            ]
          },
          "metadata": {},
          "execution_count": 17
        }
      ]
    },
    {
      "cell_type": "code",
      "metadata": {
        "id": "VumgLJUHY5Pr",
        "colab": {
          "base_uri": "https://localhost:8080/",
          "height": 206
        },
        "outputId": "e6eff092-6709-4916-f026-a22711108530"
      },
      "source": [
        "classification.evaluate(X,y)"
      ],
      "execution_count": null,
      "outputs": [
        {
          "output_type": "execute_result",
          "data": {
            "text/html": [
              "<div>\n",
              "<style scoped>\n",
              "    .dataframe tbody tr th:only-of-type {\n",
              "        vertical-align: middle;\n",
              "    }\n",
              "\n",
              "    .dataframe tbody tr th {\n",
              "        vertical-align: top;\n",
              "    }\n",
              "\n",
              "    .dataframe thead th {\n",
              "        text-align: right;\n",
              "    }\n",
              "</style>\n",
              "<table border=\"1\" class=\"dataframe\">\n",
              "  <thead>\n",
              "    <tr style=\"text-align: right;\">\n",
              "      <th></th>\n",
              "      <th>Metrics</th>\n",
              "      <th>Values</th>\n",
              "    </tr>\n",
              "  </thead>\n",
              "  <tbody>\n",
              "    <tr>\n",
              "      <th>0</th>\n",
              "      <td>L2 Error</td>\n",
              "      <td>1.732051</td>\n",
              "    </tr>\n",
              "    <tr>\n",
              "      <th>1</th>\n",
              "      <td>Accuracy</td>\n",
              "      <td>0.888889</td>\n",
              "    </tr>\n",
              "    <tr>\n",
              "      <th>2</th>\n",
              "      <td>Precision</td>\n",
              "      <td>0.866667</td>\n",
              "    </tr>\n",
              "    <tr>\n",
              "      <th>3</th>\n",
              "      <td>Recall</td>\n",
              "      <td>0.928571</td>\n",
              "    </tr>\n",
              "    <tr>\n",
              "      <th>4</th>\n",
              "      <td>F1 - Score</td>\n",
              "      <td>0.896552</td>\n",
              "    </tr>\n",
              "  </tbody>\n",
              "</table>\n",
              "</div>"
            ],
            "text/plain": [
              "      Metrics    Values\n",
              "0    L2 Error  1.732051\n",
              "1    Accuracy  0.888889\n",
              "2   Precision  0.866667\n",
              "3      Recall  0.928571\n",
              "4  F1 - Score  0.896552"
            ]
          },
          "metadata": {},
          "execution_count": 18
        }
      ]
    },
    {
      "cell_type": "code",
      "metadata": {
        "colab": {
          "base_uri": "https://localhost:8080/",
          "height": 527
        },
        "id": "LYTqz6BjhDFj",
        "outputId": "68d9947c-93ae-4451-8077-b55b243f5bc0"
      },
      "source": [
        "classification.visualize(X,y)"
      ],
      "execution_count": null,
      "outputs": [
        {
          "output_type": "display_data",
          "data": {
            "image/png": "[encoded data removed]",
            "text/plain": [
              "<Figure size 432x288 with 1 Axes>"
            ]
          },
          "metadata": {
            "needs_background": "light"
          }
        },
        {
          "output_type": "display_data",
          "data": {
            "image/png": "[encoded data removed]",
            "text/plain": [
              "<Figure size 432x288 with 2 Axes>"
            ]
          },
          "metadata": {
            "needs_background": "light"
          }
        }
      ]
    },
    {
      "cell_type": "markdown",
      "metadata": {
        "id": "BEavcQ1vBWX2"
      },
      "source": [
        "## Application of the Prediction in the Dataset"
      ]
    },
    {
      "cell_type": "code",
      "metadata": {
        "id": "lXg_Sa87BXyY"
      },
      "source": [
        "import math\n",
        "def sigmoid(x):\n",
        "  return 1 / (1 + math.exp(-x))\n",
        "\n",
        "def prediction_function(age):\n",
        "  z = 0.042 * age - 1.81                                                # -1.80953063 ~ -1.81\n",
        "  y = sigmoid(z)\n",
        "  return y"
      ],
      "execution_count": null,
      "outputs": []
    },
    {
      "cell_type": "code",
      "metadata": {
        "id": "iI0Lf2nzBack",
        "colab": {
          "base_uri": "https://localhost:8080/"
        },
        "outputId": "8c537603-560f-44cb-fcc3-ff877112a497"
      },
      "source": [
        "## Youngest age in the dataset\n",
        "age = 22\n",
        "prediction_function(age)"
      ],
      "execution_count": null,
      "outputs": [
        {
          "output_type": "execute_result",
          "data": {
            "text/plain": [
              "0.291935976213014"
            ]
          },
          "metadata": {},
          "execution_count": 21
        }
      ]
    },
    {
      "cell_type": "markdown",
      "metadata": {
        "id": "fxh62ZmtZ6dm"
      },
      "source": [
        "**0.29 is less than 0.5 which means person with age of 22 will not buy the insurance**"
      ]
    },
    {
      "cell_type": "code",
      "metadata": {
        "id": "WX3iRdwjBbeB",
        "colab": {
          "base_uri": "https://localhost:8080/"
        },
        "outputId": "e3affbe2-ba2e-4f4f-cc4c-44028a982ee4"
      },
      "source": [
        "## Oldest age in the dataset\n",
        "age = 61\n",
        "prediction_function(age)"
      ],
      "execution_count": null,
      "outputs": [
        {
          "output_type": "execute_result",
          "data": {
            "text/plain": [
              "0.6796143329051354"
            ]
          },
          "metadata": {},
          "execution_count": 22
        }
      ]
    },
    {
      "cell_type": "markdown",
      "metadata": {
        "id": "3iWs_q8TZzZp"
      },
      "source": [
        "**0.68 is more than 0.5 which means person with age of 61 will buy the insurance**"
      ]
    }
  ]
}