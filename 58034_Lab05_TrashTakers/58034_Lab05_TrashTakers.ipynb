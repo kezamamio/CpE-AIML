{
  "nbformat": 4,
  "nbformat_minor": 0,
  "metadata": {
    "colab": {
      "name": "58034_Lab05_TrashTakers",
      "provenance": [],
      "collapsed_sections": [
        "q44J0_qrxwjJ"
      ],
      "include_colab_link": true
    },
    "kernelspec": {
      "name": "python3",
      "display_name": "Python 3"
    },
    "language_info": {
      "name": "python"
    }
  },
  "cells": [
    {
      "cell_type": "markdown",
      "metadata": {
        "id": "view-in-github",
        "colab_type": "text"
      },
      "source": [
        "<a href=\"https://colab.research.google.com/github/kezamamio/CpE-AIML/blob/main/58034_Lab05_TrashTakers/58034_Lab05_TrashTakers.ipynb\" target=\"_parent\"><img src=\"https://colab.research.google.com/assets/colab-badge.svg\" alt=\"Open In Colab\"/></a>"
      ]
    },
    {
      "cell_type": "markdown",
      "metadata": {
        "id": "m1Evgke-ClXZ"
      },
      "source": [
        "# Topic 05.1: Classification\n",
        "$_{\\text{©D.J. Lopez | 2021 | Fundamentals of Machine Learning}}$\n",
        "\n",
        "Another vital activity of Machine Learning is Classification. In this module we are going to understand the concepts and applications of classification in machine learning. In this module, we are going to discuss:\n",
        "* Linear Classification\n",
        "* Logistic Regression"
      ]
    },
    {
      "cell_type": "markdown",
      "metadata": {
        "id": "TLzh0eoBgRPz"
      },
      "source": [
        "# Laboratory Activity"
      ]
    },
    {
      "cell_type": "markdown",
      "metadata": {
        "id": "Zv5O_5ebxH-A"
      },
      "source": [
        "## Problem 1\n",
        "\n",
        "* TrashTakers: [Insurance Dataset - Purpose, Needs Statement, and Significance](https://drive.google.com/file/d/1jv9ahJE7y3yEnNk3kCUEQYUulKtHSEgG/view?usp=sharing)\n"
      ]
    },
    {
      "cell_type": "markdown",
      "metadata": {
        "id": "q44J0_qrxwjJ"
      },
      "source": [
        "## Problem 2\n",
        "* TrashTakers Algorithm: [Insurance Dataset - Algorithm](https://drive.google.com/file/d/17PFEd4xYzt0VKIq9qH_Fkkse7y8-Nv_K/view?usp=sharing)"
      ]
    },
    {
      "cell_type": "markdown",
      "metadata": {
        "id": "JLcOfpTax89-"
      },
      "source": [
        "## Solution "
      ]
    },
    {
      "cell_type": "code",
      "metadata": {
        "id": "Mn1-CJ_hWY0G"
      },
      "source": [
        "import pandas as pd\n",
        "import seaborn as sns\n",
        "import numpy as np\n",
        "from sklearn.metrics import confusion_matrix\n",
        "from sklearn import metrics\n",
        "from matplotlib import pyplot as plt\n",
        "from sklearn.linear_model import LogisticRegression"
      ],
      "execution_count": null,
      "outputs": []
    },
    {
      "cell_type": "code",
      "metadata": {
        "id": "5DKJ0EXkWbUJ"
      },
      "source": [
        "class LogistRegression():\n",
        "\n",
        "  def train(self, X, y):\n",
        "    model = LogisticRegression(solver='liblinear', random_state=0).fit(X, y)\n",
        "  \n",
        "  def predict(self, X):\n",
        "    model = LogisticRegression(solver='liblinear', random_state=0).fit(X, y)\n",
        "    self.preds = model.predict(X)\n",
        "    return self.preds\n",
        "    \n",
        "  ## to indicate the value of m in slope formula\n",
        "  def coefficients(self, X):\n",
        "    model = LogisticRegression(solver='liblinear', random_state=0).fit(X, y)\n",
        "    coefficient = model.coef_\n",
        "    return coefficient\n",
        "  \n",
        "  ## to indicate the value of b in slope formula\n",
        "  def intercepts(self, X):\n",
        "    model = LogisticRegression(solver='liblinear', random_state=0).fit(X, y)\n",
        "    intercept = model.intercept_\n",
        "    return intercept\n",
        "\n",
        "  def evaluate(self, X, y):\n",
        "    preds = self.preds\n",
        "    residuals = y - preds\n",
        "    l2_error = np.sqrt(np.sum(np.square(residuals)))\n",
        "    accuracy = metrics.accuracy_score(y,preds)\n",
        "    precision = metrics.precision_score(y, preds)\n",
        "    recall = metrics.recall_score(y,preds)\n",
        "    F1 = metrics.f1_score(y,preds)\n",
        "    eval_dict ={'Metrics':['L2 Error', 'Accuracy', 'Precision', 'Recall', 'F1 - Score',],\n",
        "                'Values':[l2_error,accuracy,precision,recall,F1]\n",
        "               }\n",
        "    df = pd.DataFrame(eval_dict)\n",
        "    return df\n",
        "\n",
        "  def visualize(self,X,y):\n",
        "    #scatter plot\n",
        "    plt.figure(1)\n",
        "    plt.scatter(X,y, color='red')\n",
        "    plt.scatter(X,self.preds, color='green')\n",
        "    plt.grid()\n",
        "\n",
        "    #heatmap\n",
        "    plt.figure(2)\n",
        "    conf_mat = confusion_matrix(y, self.preds)\n",
        "    sns.heatmap(conf_mat, annot=True)\n",
        "    \n",
        "    plt.xlabel(\"Predicted\")\n",
        "    plt.ylabel(\"Ground Truth\")\n",
        "    plt.show()"
      ],
      "execution_count": null,
      "outputs": []
    },
    {
      "cell_type": "code",
      "metadata": {
        "id": "b2zw3P3CWegh"
      },
      "source": [
        "df = pd.read_csv(\"/content/insurance_data.csv\")\n",
        "X = df['age'].to_numpy().reshape((-1,1))\n",
        "y = df['bought_insurance'].to_numpy()"
      ],
      "execution_count": null,
      "outputs": []
    },
    {
      "cell_type": "code",
      "metadata": {
        "id": "0XEMLX9cWel7"
      },
      "source": [
        "classification = LogistRegression()"
      ],
      "execution_count": null,
      "outputs": []
    },
    {
      "cell_type": "code",
      "metadata": {
        "id": "DbokiN2nWhJR"
      },
      "source": [
        "classification.train(X,y)"
      ],
      "execution_count": null,
      "outputs": []
    },
    {
      "cell_type": "code",
      "metadata": {
        "id": "xtF429NCWiyS",
        "colab": {
          "base_uri": "https://localhost:8080/"
        },
        "outputId": "c2393a5c-727e-4007-cd54-e4851454ee4d"
      },
      "source": [
        "classification.predict(X)"
      ],
      "execution_count": null,
      "outputs": [
        {
          "output_type": "execute_result",
          "data": {
            "text/plain": [
              "array([0, 0, 1, 1, 1, 1, 1, 1, 1, 1, 0, 0, 0, 0, 1, 1, 0, 1, 0, 0, 0, 0,\n",
              "       1, 1, 1, 1, 0])"
            ]
          },
          "metadata": {},
          "execution_count": 15
        }
      ]
    },
    {
      "cell_type": "code",
      "metadata": {
        "id": "vNXJrk0dWjtG",
        "colab": {
          "base_uri": "https://localhost:8080/"
        },
        "outputId": "64fa1c4e-2bae-429f-bc24-c7d087a8f03b"
      },
      "source": [
        "classification.coefficients(X)"
      ],
      "execution_count": null,
      "outputs": [
        {
          "output_type": "execute_result",
          "data": {
            "text/plain": [
              "array([[0.05589224]])"
            ]
          },
          "metadata": {},
          "execution_count": 16
        }
      ]
    },
    {
      "cell_type": "code",
      "metadata": {
        "id": "sto5F3sBWkyF",
        "colab": {
          "base_uri": "https://localhost:8080/"
        },
        "outputId": "ea5f7c6b-a781-4ab0-93a3-a0a393ef650f"
      },
      "source": [
        "classification.intercepts(X)"
      ],
      "execution_count": null,
      "outputs": [
        {
          "output_type": "execute_result",
          "data": {
            "text/plain": [
              "array([-1.80953063])"
            ]
          },
          "metadata": {},
          "execution_count": 17
        }
      ]
    },
    {
      "cell_type": "code",
      "metadata": {
        "id": "VumgLJUHY5Pr",
        "colab": {
          "base_uri": "https://localhost:8080/",
          "height": 206
        },
        "outputId": "e6eff092-6709-4916-f026-a22711108530"
      },
      "source": [
        "classification.evaluate(X,y)"
      ],
      "execution_count": null,
      "outputs": [
        {
          "output_type": "execute_result",
          "data": {
            "text/html": [
              "<div>\n",
              "<style scoped>\n",
              "    .dataframe tbody tr th:only-of-type {\n",
              "        vertical-align: middle;\n",
              "    }\n",
              "\n",
              "    .dataframe tbody tr th {\n",
              "        vertical-align: top;\n",
              "    }\n",
              "\n",
              "    .dataframe thead th {\n",
              "        text-align: right;\n",
              "    }\n",
              "</style>\n",
              "<table border=\"1\" class=\"dataframe\">\n",
              "  <thead>\n",
              "    <tr style=\"text-align: right;\">\n",
              "      <th></th>\n",
              "      <th>Metrics</th>\n",
              "      <th>Values</th>\n",
              "    </tr>\n",
              "  </thead>\n",
              "  <tbody>\n",
              "    <tr>\n",
              "      <th>0</th>\n",
              "      <td>L2 Error</td>\n",
              "      <td>1.732051</td>\n",
              "    </tr>\n",
              "    <tr>\n",
              "      <th>1</th>\n",
              "      <td>Accuracy</td>\n",
              "      <td>0.888889</td>\n",
              "    </tr>\n",
              "    <tr>\n",
              "      <th>2</th>\n",
              "      <td>Precision</td>\n",
              "      <td>0.866667</td>\n",
              "    </tr>\n",
              "    <tr>\n",
              "      <th>3</th>\n",
              "      <td>Recall</td>\n",
              "      <td>0.928571</td>\n",
              "    </tr>\n",
              "    <tr>\n",
              "      <th>4</th>\n",
              "      <td>F1 - Score</td>\n",
              "      <td>0.896552</td>\n",
              "    </tr>\n",
              "  </tbody>\n",
              "</table>\n",
              "</div>"
            ],
            "text/plain": [
              "      Metrics    Values\n",
              "0    L2 Error  1.732051\n",
              "1    Accuracy  0.888889\n",
              "2   Precision  0.866667\n",
              "3      Recall  0.928571\n",
              "4  F1 - Score  0.896552"
            ]
          },
          "metadata": {},
          "execution_count": 18
        }
      ]
    },
    {
      "cell_type": "code",
      "metadata": {
        "colab": {
          "base_uri": "https://localhost:8080/",
          "height": 527
        },
        "id": "LYTqz6BjhDFj",
        "outputId": "68d9947c-93ae-4451-8077-b55b243f5bc0"
      },
      "source": [
        "classification.visualize(X,y)"
      ],
      "execution_count": null,
      "outputs": [
        {
          "output_type": "display_data",
          "data": {
            "image/png": "[encoded data removed]",
            "text/plain": [
              "<Figure size 432x288 with 1 Axes>"
            ]
          },
          "metadata": {
            "needs_background": "light"
          }
        },
        {
          "output_type": "display_data",
          "data": {
            "image/png": "[encoded data removed]",
            "text/plain": [
              "<Figure size 432x288 with 2 Axes>"
            ]
          },
          "metadata": {
            "needs_background": "light"
          }
        }
      ]
    },
    {
      "cell_type": "markdown",
      "metadata": {
        "id": "BEavcQ1vBWX2"
      },
      "source": [
        "## Application of the Prediction in the Dataset"
      ]
    },
    {
      "cell_type": "code",
      "metadata": {
        "id": "lXg_Sa87BXyY"
      },
      "source": [
        "import math\n",
        "def sigmoid(x):\n",
        "  return 1 / (1 + math.exp(-x))\n",
        "\n",
        "def prediction_function(age):\n",
        "  z = 0.042 * age - 1.81                                                # -1.80953063 ~ -1.81\n",
        "  y = sigmoid(z)\n",
        "  return y"
      ],
      "execution_count": null,
      "outputs": []
    },
    {
      "cell_type": "code",
      "metadata": {
        "id": "iI0Lf2nzBack",
        "colab": {
          "base_uri": "https://localhost:8080/"
        },
        "outputId": "8c537603-560f-44cb-fcc3-ff877112a497"
      },
      "source": [
        "## Youngest age in the dataset\n",
        "age = 22\n",
        "prediction_function(age)"
      ],
      "execution_count": null,
      "outputs": [
        {
          "output_type": "execute_result",
          "data": {
            "text/plain": [
              "0.291935976213014"
            ]
          },
          "metadata": {},
          "execution_count": 21
        }
      ]
    },
    {
      "cell_type": "markdown",
      "metadata": {
        "id": "fxh62ZmtZ6dm"
      },
      "source": [
        "**0.29 is less than 0.5 which means person with age of 22 will not buy the insurance**"
      ]
    },
    {
      "cell_type": "code",
      "metadata": {
        "id": "WX3iRdwjBbeB",
        "colab": {
          "base_uri": "https://localhost:8080/"
        },
        "outputId": "e3affbe2-ba2e-4f4f-cc4c-44028a982ee4"
      },
      "source": [
        "## Oldest age in the dataset\n",
        "age = 61\n",
        "prediction_function(age)"
      ],
      "execution_count": null,
      "outputs": [
        {
          "output_type": "execute_result",
          "data": {
            "text/plain": [
              "0.6796143329051354"
            ]
          },
          "metadata": {},
          "execution_count": 22
        }
      ]
    },
    {
      "cell_type": "markdown",
      "metadata": {
        "id": "3iWs_q8TZzZp"
      },
      "source": [
        "**0.68 is more than 0.5 which means person with age of 61 will buy the insurance**"
      ]
    }
  ]
}