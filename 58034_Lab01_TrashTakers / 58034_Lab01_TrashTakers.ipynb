{
  "nbformat": 4,
  "nbformat_minor": 0,
  "metadata": {
    "colab": {
      "name": "58034_Lab01_TrashTakers",
      "provenance": [],
      "collapsed_sections": [],
      "include_colab_link": true
    },
    "kernelspec": {
      "display_name": "Python 3",
      "name": "python3"
    },
    "language_info": {
      "name": "python"
    }
  },
  "cells": [
    {
      "cell_type": "markdown",
      "metadata": {
        "id": "view-in-github",
        "colab_type": "text"
      },
      "source": [
        "<a href=\"https://colab.research.google.com/github/kezamamio/CpE-AIML/blob/main/58034_Lab01_TrashTakers%20/%2058034_Lab01_TrashTakers.ipynb\" target=\"_parent\"><img src=\"https://colab.research.google.com/assets/colab-badge.svg\" alt=\"Open In Colab\"/></a>"
      ]
    },
    {
      "cell_type": "markdown",
      "metadata": {
        "id": "Ob49EcB9H7h2"
      },
      "source": [
        "# Topic 01: Software Engineering Concepts Review\n",
        "$_{\\text{©D.J. Lopez | 2021 | Fudamentals of Machine Learning}}$\n",
        "\n",
        "Data Science or Machine Learning is more than math or business application. It is also important to remember that AI, ML, or DS are being integrated into industry and companies for product delivery. So it is important to keep code clean, manage your files properly, and also assure readability for your projects and their codes.\n",
        "This module is dedicated to reviewing the concepts of software engineering and integrating their concepts in Machine Learning programming. For this notebook we will be covering:\n",
        "* Modular Programming\n",
        "* Object-oriented Programming Concepts\n",
        "* Documentation\n",
        "* Version Control\t\n"
      ]
    },
    {
      "cell_type": "markdown",
      "metadata": {
        "id": "7t8h1u-2KPlN"
      },
      "source": [
        "# 1. Modular Programming\n",
        "Creating readable and understandable code is needed in the industry or any project that you might do. It does not just benefit yourself in understanding your code or project but also other teams, users, and even future researchers. In this module, we are going to discuss how to format your projects and codes for readability and understandability. One of the techniques to achieve this is through modular programming.\n",
        "\n",
        "The idea of modular programming is to make your code granular for reusability. It does not only makes your code simpler but also optimal. The goal of making your code more efficient does not only look into visual representation but also its optimization.\n"
      ]
    },
    {
      "cell_type": "markdown",
      "metadata": {
        "id": "qnV_a_1ossnR"
      },
      "source": [
        "## 1.1 Refactoring\n",
        "\n",
        "Refactoring your code means restructuring your code without changing the expected output. We consider code refactoring while optimizing our code in terms of naming or even in optimizing methods. The first activity of refactoring that we will do or consider is renaming and the other is \"functionizing\" your code. "
      ]
    },
    {
      "cell_type": "markdown",
      "metadata": {
        "id": "9byGZ0_WsyTg"
      },
      "source": [
        "### *Renaming*"
      ]
    },
    {
      "cell_type": "markdown",
      "metadata": {
        "id": "TsyGtv7wtGJp"
      },
      "source": [
        "You might think discussing this topic must be pointless or too simplistic but it is actually one of the most frequent mistakes that data scientists, professors, or researchers usually do. Naming variables and functions properly will bring clarity to understanding the code."
      ]
    },
    {
      "cell_type": "code",
      "metadata": {
        "id": "AzqU8FaqtFQI"
      },
      "source": [
        "'''\n",
        "    CASE 1: Setting the class grades.\n",
        "\n",
        "    The case for this section would be computing for the grades of a \n",
        "    certain class. For the next cells will be looking in how can we create a \n",
        "    class analytics implementation.\n",
        "'''\n",
        "### Example of bad naming in module import nicknames.\n",
        "### Nicknames should be short and still relevant to the module.\n",
        "\n",
        "# import pandas as food_panda \n",
        "## bad, since not representative and long\n",
        "#import pandas as nd \n",
        "##bad, although short it is not representative\n",
        "import pandas as pd \n",
        "##good, aside form community acceptance it is short and representative\n",
        "\n",
        "ln = [\"Ingles\", \"Español\", \"Cruz\", \"Jones\"]\n",
        "# bad, since \"ln\" is ambiguous.\n",
        "\n",
        "names = [\"Ingles\", \"Español\", \"Cruz\", \"Jones\"] \n",
        "# good, since descriptive\n",
        "\n",
        "lnames = [\"Ingles\", \"Español\", \"Cruz\", \"Jones\"]\n",
        "# better, more specific that itis about last names\n",
        "\n",
        "last_names_of_the_class = [\"Ingles\", \"Español\", \"Cruz\", \"Jones\"] \n",
        "# bad, too long\n"
      ],
      "execution_count": null,
      "outputs": []
    },
    {
      "cell_type": "markdown",
      "metadata": {
        "id": "w9_g4Wq4RXgi"
      },
      "source": [
        "### Task 1: Setting the Class Grades\n",
        "1. Create variable declarations for:\n",
        "        - Last Names\n",
        "        - First Names\n",
        "        - Grades for Prelims\n",
        "        - Grades for Midterms\n",
        "        - Grades for Finals \n",
        "2. Create a DataFrame (Pandas) for consolidating the data from Task 1.1"
      ]
    },
    {
      "cell_type": "code",
      "metadata": {
        "colab": {
          "base_uri": "https://localhost:8080/",
          "height": 173
        },
        "id": "-grA0uH6yuwl",
        "outputId": "32936a06-e061-4456-e5b7-9e7d667c65ac"
      },
      "source": [
        "### CODE HERE ###\n",
        "import pandas as pd\n",
        "\n",
        "## Variable Declarations\n",
        "lnames = [\"Alog\", \"Amamio\", \"Borejon\", \"Padua\"]\n",
        "fnames = [\"Alyana\", \"Keziah\", \"Jene\", \"James\"]\n",
        "prelims = [95.1, 95.0, 94.6, 94.9]\n",
        "midterms = [92.4, 92.1, 90.5, 91.2]\n",
        "finals = [97.8, 97.3, 96.3, 92.9]\n",
        "\n",
        "list_tuples = list(zip(lnames, fnames, prelims, midterms, finals))\n",
        "\n",
        "## DataFrame for Task 1.1\n",
        "df = pd.DataFrame(list_tuples, columns=['last_name', 'first_name', 'prelim_grade', 'midterm_grade', 'finals_grade'])\n",
        "df"
      ],
      "execution_count": null,
      "outputs": [
        {
          "data": {
            "text/html": [
              "<div>\n",
              "<style scoped>\n",
              "    .dataframe tbody tr th:only-of-type {\n",
              "        vertical-align: middle;\n",
              "    }\n",
              "\n",
              "    .dataframe tbody tr th {\n",
              "        vertical-align: top;\n",
              "    }\n",
              "\n",
              "    .dataframe thead th {\n",
              "        text-align: right;\n",
              "    }\n",
              "</style>\n",
              "<table border=\"1\" class=\"dataframe\">\n",
              "  <thead>\n",
              "    <tr style=\"text-align: right;\">\n",
              "      <th></th>\n",
              "      <th>last_name</th>\n",
              "      <th>first_name</th>\n",
              "      <th>prelim_grade</th>\n",
              "      <th>midterm_grade</th>\n",
              "      <th>finals_grade</th>\n",
              "    </tr>\n",
              "  </thead>\n",
              "  <tbody>\n",
              "    <tr>\n",
              "      <th>0</th>\n",
              "      <td>Alog</td>\n",
              "      <td>Alyana</td>\n",
              "      <td>95.1</td>\n",
              "      <td>92.4</td>\n",
              "      <td>97.8</td>\n",
              "    </tr>\n",
              "    <tr>\n",
              "      <th>1</th>\n",
              "      <td>Amamio</td>\n",
              "      <td>Keziah</td>\n",
              "      <td>95.0</td>\n",
              "      <td>92.1</td>\n",
              "      <td>97.3</td>\n",
              "    </tr>\n",
              "    <tr>\n",
              "      <th>2</th>\n",
              "      <td>Borejon</td>\n",
              "      <td>Jene</td>\n",
              "      <td>94.6</td>\n",
              "      <td>90.5</td>\n",
              "      <td>96.3</td>\n",
              "    </tr>\n",
              "    <tr>\n",
              "      <th>3</th>\n",
              "      <td>Padua</td>\n",
              "      <td>James</td>\n",
              "      <td>94.9</td>\n",
              "      <td>91.2</td>\n",
              "      <td>92.9</td>\n",
              "    </tr>\n",
              "  </tbody>\n",
              "</table>\n",
              "</div>"
            ],
            "text/plain": [
              "  last_name first_name  prelim_grade  midterm_grade  finals_grade\n",
              "0      Alog     Alyana          95.1           92.4          97.8\n",
              "1    Amamio     Keziah          95.0           92.1          97.3\n",
              "2   Borejon       Jene          94.6           90.5          96.3\n",
              "3     Padua      James          94.9           91.2          92.9"
            ]
          },
          "execution_count": 23,
          "metadata": {},
          "output_type": "execute_result"
        }
      ]
    },
    {
      "cell_type": "markdown",
      "metadata": {
        "id": "0pr8y4LUs2Vg"
      },
      "source": [
        "### *Code Reusability*\n",
        "\n",
        "Just like in any writing we want to reduce redundancies in our content. Just like following the rules of brevity we also consider that in creating cleaner code. One way of applying brevity to code is code reusability wherein you refrain from creating code that you repeat in encoding. This is where the use of functions will be most used. Consider the following code below."
      ]
    },
    {
      "cell_type": "code",
      "metadata": {
        "colab": {
          "base_uri": "https://localhost:8080/"
        },
        "id": "mC9I6ZnhAKNC",
        "outputId": "f50b8a65-2c3e-43b2-8dff-da84d8d965ec"
      },
      "source": [
        "'''\n",
        "    CASE 2: Computing grades.\n",
        "\n",
        "    For this cell we are going to look into creating functions for the class.\n",
        "    This includes computing for their grades and some classroom management\n",
        "    routines.\n",
        "'''\n",
        "### Consider this procedural programming script\n",
        "gs_1 = [89.4, 78.2, 88.0, 28.5, 67.3]\n",
        "# Get average grades of the class\n",
        "class_g = 0\n",
        "for g in gs_1:\n",
        "  class_g += g\n",
        "cmean = class_g/len(gs_1)\n",
        "print(cmean)"
      ],
      "execution_count": null,
      "outputs": [
        {
          "name": "stdout",
          "output_type": "stream",
          "text": [
            "70.28\n"
          ]
        }
      ]
    },
    {
      "cell_type": "code",
      "metadata": {
        "colab": {
          "base_uri": "https://localhost:8080/"
        },
        "id": "_SSjhGSM-iLM",
        "outputId": "1cf3f94b-4f3f-4b23-f60c-d415266c2972"
      },
      "source": [
        "### Now let's say you want to reuse the code above for a different class\n",
        "### you might just copy and paste in like the code below and change some \n",
        "### variable naming\n",
        "\n",
        "gs_2 = [99.4, 64.5, 87.2, 68.5, 57.]\n",
        "# Get average grades of the class\n",
        "class_g = 0\n",
        "for g in gs_2:\n",
        "  class_g += g\n",
        "cmean = class_g/len(gs_2)\n",
        "print(cmean)"
      ],
      "execution_count": null,
      "outputs": [
        {
          "name": "stdout",
          "output_type": "stream",
          "text": [
            "75.32000000000001\n"
          ]
        }
      ]
    },
    {
      "cell_type": "code",
      "metadata": {
        "id": "zsfe5hrl-5Dj"
      },
      "source": [
        "### That works but if you keep doing that for production, it would just look\n",
        "### like spaghetti code. Instead, if you are repeating code, consider creating\n",
        "### a function.\n",
        "\n",
        "def average(grades):\n",
        "  grades_class = 0\n",
        "  for g in grades:\n",
        "    grades_class += g\n",
        "  avg = grades_class/len(grades)\n",
        "  return avg\n"
      ],
      "execution_count": null,
      "outputs": []
    },
    {
      "cell_type": "code",
      "metadata": {
        "id": "cM06F8qkAkwz"
      },
      "source": [
        "### The code above would be reusable but it is not easy to read. We need to \n",
        "### enforce the code refactoring for renaming not just the variables but also\n",
        "### the functions we are creating. So if we would refactor the 'average' \n",
        "### Function earlier it could be:\n",
        "\n",
        "def get_class_ave(arr):\n",
        "  class_grades = 0\n",
        "  for grade in arr:\n",
        "    class_grades += grade\n",
        "  class_avg = class_grades/len(arr)\n",
        "  return class_avg"
      ],
      "execution_count": null,
      "outputs": []
    },
    {
      "cell_type": "markdown",
      "metadata": {
        "id": "QZWa_LNqRVOJ"
      },
      "source": [
        "### Task 2: Getting Class Statistics\n",
        "1. Create a function named `get_grades()` for computing the semestral grade of each student:\n",
        "\n",
        "  `inputs`: `DataFrame` of a class grade sheet.\n",
        "  \n",
        "  `outpus`: `DataFrame` showing:\n",
        "  * The prelim, midterms, and finals grades of each student\n",
        "  * The semestral grade of each student\n",
        "\n",
        "2. Create a function named `get_class_stats()`.\n",
        "  \n",
        "  `inputs`: `DataFrame` from `get_grades()`.\n",
        "  \n",
        "  `outpus`: `DataFrame` showing:\n",
        "  * The lowest and highest prelim, midterm, finals, and semestral grades\n",
        "  * the mean, median, mode, and standard deviation of the grades\n"
      ]
    },
    {
      "cell_type": "code",
      "metadata": {
        "colab": {
          "base_uri": "https://localhost:8080/",
          "height": 883
        },
        "id": "pvg3X7dCGzyP",
        "outputId": "128facab-fed7-4a25-9070-824ce1c303d1"
      },
      "source": [
        "### CODE HERE -- Task 2.1 ###\n",
        "import pandas as pd\n",
        "\n",
        "## Input Dataframe\n",
        "df = pd.read_excel(\"class_grades.xlsx\")\n",
        "df\n",
        "\n",
        "## Add Column to Dataframe\n",
        "sem_grade = 0\n",
        "df.insert(5, \"sem_grade\", sem_grade)\n",
        "df\n",
        "\n",
        "## Define Function\n",
        "def get_grades(semestral_grade):\n",
        "  prelim_grades = df['prelim_grades']\n",
        "  midterm_grades = df['midterm_grades']\n",
        "  final_grades = df['final_grades'] \n",
        "  sem_grade = (prelim_grades*0.3) + (midterm_grades*0.3) + (final_grades*0.4)\n",
        "  return sem_grade\n",
        "\n",
        "## Output\n",
        "df['sem_grade'] = df.apply(get_grades)\n",
        "df"
      ],
      "execution_count": null,
      "outputs": [
        {
          "output_type": "execute_result",
          "data": {
            "text/html": [
              "<div>\n",
              "<style scoped>\n",
              "    .dataframe tbody tr th:only-of-type {\n",
              "        vertical-align: middle;\n",
              "    }\n",
              "\n",
              "    .dataframe tbody tr th {\n",
              "        vertical-align: top;\n",
              "    }\n",
              "\n",
              "    .dataframe thead th {\n",
              "        text-align: right;\n",
              "    }\n",
              "</style>\n",
              "<table border=\"1\" class=\"dataframe\">\n",
              "  <thead>\n",
              "    <tr style=\"text-align: right;\">\n",
              "      <th></th>\n",
              "      <th>name</th>\n",
              "      <th>id</th>\n",
              "      <th>prelim_grades</th>\n",
              "      <th>midterm_grades</th>\n",
              "      <th>final_grades</th>\n",
              "      <th>sem_grade</th>\n",
              "    </tr>\n",
              "  </thead>\n",
              "  <tbody>\n",
              "    <tr>\n",
              "      <th>0</th>\n",
              "      <td>alpha</td>\n",
              "      <td>1</td>\n",
              "      <td>94.960000</td>\n",
              "      <td>95.260</td>\n",
              "      <td>92.2192</td>\n",
              "      <td>93.95368</td>\n",
              "    </tr>\n",
              "    <tr>\n",
              "      <th>1</th>\n",
              "      <td>aleph</td>\n",
              "      <td>2</td>\n",
              "      <td>94.960000</td>\n",
              "      <td>95.260</td>\n",
              "      <td>92.7792</td>\n",
              "      <td>94.17768</td>\n",
              "    </tr>\n",
              "    <tr>\n",
              "      <th>2</th>\n",
              "      <td>beta</td>\n",
              "      <td>3</td>\n",
              "      <td>78.173333</td>\n",
              "      <td>94.360</td>\n",
              "      <td>84.3200</td>\n",
              "      <td>85.48800</td>\n",
              "    </tr>\n",
              "    <tr>\n",
              "      <th>3</th>\n",
              "      <td>beth</td>\n",
              "      <td>4</td>\n",
              "      <td>78.173333</td>\n",
              "      <td>81.372</td>\n",
              "      <td>84.6400</td>\n",
              "      <td>81.71960</td>\n",
              "    </tr>\n",
              "    <tr>\n",
              "      <th>4</th>\n",
              "      <td>cuprum</td>\n",
              "      <td>5</td>\n",
              "      <td>94.960000</td>\n",
              "      <td>95.260</td>\n",
              "      <td>92.2192</td>\n",
              "      <td>93.95368</td>\n",
              "    </tr>\n",
              "    <tr>\n",
              "      <th>5</th>\n",
              "      <td>delta</td>\n",
              "      <td>6</td>\n",
              "      <td>84.826667</td>\n",
              "      <td>92.485</td>\n",
              "      <td>83.5792</td>\n",
              "      <td>86.62518</td>\n",
              "    </tr>\n",
              "    <tr>\n",
              "      <th>6</th>\n",
              "      <td>eta</td>\n",
              "      <td>7</td>\n",
              "      <td>93.980000</td>\n",
              "      <td>97.300</td>\n",
              "      <td>95.6528</td>\n",
              "      <td>95.64512</td>\n",
              "    </tr>\n",
              "    <tr>\n",
              "      <th>7</th>\n",
              "      <td>epsilon</td>\n",
              "      <td>8</td>\n",
              "      <td>60.788200</td>\n",
              "      <td>68.000</td>\n",
              "      <td>83.8672</td>\n",
              "      <td>72.18334</td>\n",
              "    </tr>\n",
              "    <tr>\n",
              "      <th>8</th>\n",
              "      <td>foxtrot</td>\n",
              "      <td>9</td>\n",
              "      <td>94.306667</td>\n",
              "      <td>82.000</td>\n",
              "      <td>84.1472</td>\n",
              "      <td>86.55088</td>\n",
              "    </tr>\n",
              "    <tr>\n",
              "      <th>9</th>\n",
              "      <td>gamma</td>\n",
              "      <td>10</td>\n",
              "      <td>96.406667</td>\n",
              "      <td>82.000</td>\n",
              "      <td>84.1472</td>\n",
              "      <td>87.18088</td>\n",
              "    </tr>\n",
              "    <tr>\n",
              "      <th>10</th>\n",
              "      <td>geld</td>\n",
              "      <td>11</td>\n",
              "      <td>86.926667</td>\n",
              "      <td>92.485</td>\n",
              "      <td>82.7792</td>\n",
              "      <td>86.93518</td>\n",
              "    </tr>\n",
              "    <tr>\n",
              "      <th>11</th>\n",
              "      <td>horus</td>\n",
              "      <td>12</td>\n",
              "      <td>78.173333</td>\n",
              "      <td>94.360</td>\n",
              "      <td>84.3200</td>\n",
              "      <td>85.48800</td>\n",
              "    </tr>\n",
              "    <tr>\n",
              "      <th>12</th>\n",
              "      <td>iota</td>\n",
              "      <td>13</td>\n",
              "      <td>94.306667</td>\n",
              "      <td>82.000</td>\n",
              "      <td>84.1472</td>\n",
              "      <td>86.55088</td>\n",
              "    </tr>\n",
              "    <tr>\n",
              "      <th>13</th>\n",
              "      <td>ixus</td>\n",
              "      <td>14</td>\n",
              "      <td>78.173333</td>\n",
              "      <td>94.360</td>\n",
              "      <td>84.3200</td>\n",
              "      <td>85.48800</td>\n",
              "    </tr>\n",
              "    <tr>\n",
              "      <th>14</th>\n",
              "      <td>jakarta</td>\n",
              "      <td>15</td>\n",
              "      <td>84.826667</td>\n",
              "      <td>92.485</td>\n",
              "      <td>82.7792</td>\n",
              "      <td>86.30518</td>\n",
              "    </tr>\n",
              "    <tr>\n",
              "      <th>15</th>\n",
              "      <td>koppa</td>\n",
              "      <td>16</td>\n",
              "      <td>NaN</td>\n",
              "      <td>87.685</td>\n",
              "      <td>83.8672</td>\n",
              "      <td>NaN</td>\n",
              "    </tr>\n",
              "    <tr>\n",
              "      <th>16</th>\n",
              "      <td>lambda</td>\n",
              "      <td>17</td>\n",
              "      <td>93.980000</td>\n",
              "      <td>97.300</td>\n",
              "      <td>95.6528</td>\n",
              "      <td>95.64512</td>\n",
              "    </tr>\n",
              "    <tr>\n",
              "      <th>17</th>\n",
              "      <td>mu</td>\n",
              "      <td>18</td>\n",
              "      <td>79.806667</td>\n",
              "      <td>83.500</td>\n",
              "      <td>81.2792</td>\n",
              "      <td>81.50368</td>\n",
              "    </tr>\n",
              "    <tr>\n",
              "      <th>18</th>\n",
              "      <td>nu</td>\n",
              "      <td>19</td>\n",
              "      <td>75.406667</td>\n",
              "      <td>82.000</td>\n",
              "      <td>82.5472</td>\n",
              "      <td>80.24088</td>\n",
              "    </tr>\n",
              "    <tr>\n",
              "      <th>19</th>\n",
              "      <td>neta</td>\n",
              "      <td>20</td>\n",
              "      <td>69.314000</td>\n",
              "      <td>87.685</td>\n",
              "      <td>50.3360</td>\n",
              "      <td>67.23410</td>\n",
              "    </tr>\n",
              "    <tr>\n",
              "      <th>20</th>\n",
              "      <td>omicron</td>\n",
              "      <td>21</td>\n",
              "      <td>93.980000</td>\n",
              "      <td>97.300</td>\n",
              "      <td>95.6528</td>\n",
              "      <td>95.64512</td>\n",
              "    </tr>\n",
              "    <tr>\n",
              "      <th>21</th>\n",
              "      <td>omega</td>\n",
              "      <td>22</td>\n",
              "      <td>79.806667</td>\n",
              "      <td>83.500</td>\n",
              "      <td>81.2792</td>\n",
              "      <td>81.50368</td>\n",
              "    </tr>\n",
              "    <tr>\n",
              "      <th>22</th>\n",
              "      <td>phalanx</td>\n",
              "      <td>23</td>\n",
              "      <td>84.826667</td>\n",
              "      <td>92.485</td>\n",
              "      <td>82.7792</td>\n",
              "      <td>86.30518</td>\n",
              "    </tr>\n",
              "    <tr>\n",
              "      <th>23</th>\n",
              "      <td>peta</td>\n",
              "      <td>24</td>\n",
              "      <td>94.960000</td>\n",
              "      <td>95.260</td>\n",
              "      <td>92.2192</td>\n",
              "      <td>93.95368</td>\n",
              "    </tr>\n",
              "    <tr>\n",
              "      <th>24</th>\n",
              "      <td>pi</td>\n",
              "      <td>25</td>\n",
              "      <td>79.806667</td>\n",
              "      <td>87.460</td>\n",
              "      <td>81.2792</td>\n",
              "      <td>82.69168</td>\n",
              "    </tr>\n",
              "    <tr>\n",
              "      <th>25</th>\n",
              "      <td>yotta</td>\n",
              "      <td>26</td>\n",
              "      <td>93.980000</td>\n",
              "      <td>97.300</td>\n",
              "      <td>94.8528</td>\n",
              "      <td>95.32512</td>\n",
              "    </tr>\n",
              "    <tr>\n",
              "      <th>26</th>\n",
              "      <td>zeta</td>\n",
              "      <td>27</td>\n",
              "      <td>86.626667</td>\n",
              "      <td>84.850</td>\n",
              "      <td>83.8672</td>\n",
              "      <td>84.98988</td>\n",
              "    </tr>\n",
              "  </tbody>\n",
              "</table>\n",
              "</div>"
            ],
            "text/plain": [
              "       name  id  prelim_grades  midterm_grades  final_grades  sem_grade\n",
              "0     alpha   1      94.960000          95.260       92.2192   93.95368\n",
              "1     aleph   2      94.960000          95.260       92.7792   94.17768\n",
              "2      beta   3      78.173333          94.360       84.3200   85.48800\n",
              "3      beth   4      78.173333          81.372       84.6400   81.71960\n",
              "4    cuprum   5      94.960000          95.260       92.2192   93.95368\n",
              "5     delta   6      84.826667          92.485       83.5792   86.62518\n",
              "6       eta   7      93.980000          97.300       95.6528   95.64512\n",
              "7   epsilon   8      60.788200          68.000       83.8672   72.18334\n",
              "8   foxtrot   9      94.306667          82.000       84.1472   86.55088\n",
              "9     gamma  10      96.406667          82.000       84.1472   87.18088\n",
              "10     geld  11      86.926667          92.485       82.7792   86.93518\n",
              "11    horus  12      78.173333          94.360       84.3200   85.48800\n",
              "12     iota  13      94.306667          82.000       84.1472   86.55088\n",
              "13     ixus  14      78.173333          94.360       84.3200   85.48800\n",
              "14  jakarta  15      84.826667          92.485       82.7792   86.30518\n",
              "15    koppa  16            NaN          87.685       83.8672        NaN\n",
              "16   lambda  17      93.980000          97.300       95.6528   95.64512\n",
              "17       mu  18      79.806667          83.500       81.2792   81.50368\n",
              "18       nu  19      75.406667          82.000       82.5472   80.24088\n",
              "19     neta  20      69.314000          87.685       50.3360   67.23410\n",
              "20  omicron  21      93.980000          97.300       95.6528   95.64512\n",
              "21    omega  22      79.806667          83.500       81.2792   81.50368\n",
              "22  phalanx  23      84.826667          92.485       82.7792   86.30518\n",
              "23     peta  24      94.960000          95.260       92.2192   93.95368\n",
              "24       pi  25      79.806667          87.460       81.2792   82.69168\n",
              "25    yotta  26      93.980000          97.300       94.8528   95.32512\n",
              "26     zeta  27      86.626667          84.850       83.8672   84.98988"
            ]
          },
          "metadata": {},
          "execution_count": 1
        }
      ]
    },
    {
      "cell_type": "code",
      "metadata": {
        "id": "MTG6UpuxOBVK",
        "colab": {
          "base_uri": "https://localhost:8080/",
          "height": 172
        },
        "outputId": "09bd17d0-be32-4c1d-81b7-ab701909c52c"
      },
      "source": [
        "### CODE HERE -- Task 2.2###\n",
        " \n",
        "## The mean, median, mode, and standard deviation of the grades\n",
        "\n",
        "## [Filter Dataframe from get_grades()]\n",
        "df_new = df.filter(['prelim_grades', 'midterm_grades', 'final_grades', 'sem_grade'], axis=1)\n",
        "df_new\n",
        "\n",
        "## [Transpose Dataframe]\n",
        "df_new = df_new.T\n",
        "df_new\n",
        "\n",
        "## [Create New Dataframe]\n",
        "data_class_stats = {'mean':[],\n",
        "       'median':[],\n",
        "       'mode':[],\n",
        "       'standard dev': []}\n",
        "\n",
        "df_class_stats = pd.DataFrame(data_class_stats)\n",
        "df_class_stats\n",
        "\n",
        "## [Define Function]\n",
        "def get_class_stats (get_grades):\n",
        "  df_class_stats['mean'] = df_new.mean(axis=1)\n",
        "  df_class_stats['median'] = df_new.median(axis=1)\n",
        "  df_class_stats['mode'] = df_new.mode(axis=1)\n",
        "  df_class_stats['standard dev'] = df_new.std(axis=1)\n",
        "\n",
        "## [Output]\n",
        "get_class_stats(df_class_stats)\n",
        "df_class_stats"
      ],
      "execution_count": null,
      "outputs": [
        {
          "output_type": "execute_result",
          "data": {
            "text/html": [
              "<div>\n",
              "<style scoped>\n",
              "    .dataframe tbody tr th:only-of-type {\n",
              "        vertical-align: middle;\n",
              "    }\n",
              "\n",
              "    .dataframe tbody tr th {\n",
              "        vertical-align: top;\n",
              "    }\n",
              "\n",
              "    .dataframe thead th {\n",
              "        text-align: right;\n",
              "    }\n",
              "</style>\n",
              "<table border=\"1\" class=\"dataframe\">\n",
              "  <thead>\n",
              "    <tr style=\"text-align: right;\">\n",
              "      <th></th>\n",
              "      <th>mean</th>\n",
              "      <th>median</th>\n",
              "      <th>mode</th>\n",
              "      <th>standard dev</th>\n",
              "    </tr>\n",
              "  </thead>\n",
              "  <tbody>\n",
              "    <tr>\n",
              "      <th>prelim_grades</th>\n",
              "      <td>85.632136</td>\n",
              "      <td>85.726667</td>\n",
              "      <td>78.173333</td>\n",
              "      <td>9.402949</td>\n",
              "    </tr>\n",
              "    <tr>\n",
              "      <th>midterm_grades</th>\n",
              "      <td>89.456000</td>\n",
              "      <td>92.485000</td>\n",
              "      <td>82.000000</td>\n",
              "      <td>7.179578</td>\n",
              "    </tr>\n",
              "    <tr>\n",
              "      <th>final_grades</th>\n",
              "      <td>85.241807</td>\n",
              "      <td>84.147200</td>\n",
              "      <td>81.279200</td>\n",
              "      <td>8.607503</td>\n",
              "    </tr>\n",
              "    <tr>\n",
              "      <th>sem_grade</th>\n",
              "      <td>86.664746</td>\n",
              "      <td>86.428030</td>\n",
              "      <td>85.488000</td>\n",
              "      <td>7.106049</td>\n",
              "    </tr>\n",
              "  </tbody>\n",
              "</table>\n",
              "</div>"
            ],
            "text/plain": [
              "                     mean     median       mode  standard dev\n",
              "prelim_grades   85.632136  85.726667  78.173333      9.402949\n",
              "midterm_grades  89.456000  92.485000  82.000000      7.179578\n",
              "final_grades    85.241807  84.147200  81.279200      8.607503\n",
              "sem_grade       86.664746  86.428030  85.488000      7.106049"
            ]
          },
          "metadata": {},
          "execution_count": 69
        }
      ]
    },
    {
      "cell_type": "code",
      "metadata": {
        "colab": {
          "base_uri": "https://localhost:8080/",
          "height": 172
        },
        "id": "jGNOoN0sxgmO",
        "outputId": "e3cd1d67-2fc1-4862-8566-3761d51991d3"
      },
      "source": [
        "## The lowest and highest prelim, midterm, finals, and semestral grades\n",
        "\n",
        "## [Lowest]\n",
        "min_vals = df[[\"prelim_grades\", \"midterm_grades\", \"final_grades\", \"sem_grade\"]].min()   \n",
        "min_vals\n",
        "df_grades_min = pd.DataFrame(min_vals)\n",
        "df_grades_min\n",
        "\n",
        "# [Highest]\n",
        "max_vals = df[[\"prelim_grades\", \"midterm_grades\", \"final_grades\", \"sem_grade\"]].max()\n",
        "max_vals\n",
        "df_grades_max = pd.DataFrame(max_vals)\n",
        "df_grades_max\n",
        "\n",
        "## [Combine df_grades_min and df_grades_max into one DataFrame]\n",
        "df_grades_sort = pd.concat([df_grades_min, df_grades_max], axis=1, join=\"inner\")\n",
        "df_grades_sort"
      ],
      "execution_count": null,
      "outputs": [
        {
          "output_type": "execute_result",
          "data": {
            "text/html": [
              "<div>\n",
              "<style scoped>\n",
              "    .dataframe tbody tr th:only-of-type {\n",
              "        vertical-align: middle;\n",
              "    }\n",
              "\n",
              "    .dataframe tbody tr th {\n",
              "        vertical-align: top;\n",
              "    }\n",
              "\n",
              "    .dataframe thead th {\n",
              "        text-align: right;\n",
              "    }\n",
              "</style>\n",
              "<table border=\"1\" class=\"dataframe\">\n",
              "  <thead>\n",
              "    <tr style=\"text-align: right;\">\n",
              "      <th></th>\n",
              "      <th>0</th>\n",
              "      <th>0</th>\n",
              "    </tr>\n",
              "  </thead>\n",
              "  <tbody>\n",
              "    <tr>\n",
              "      <th>prelim_grades</th>\n",
              "      <td>60.7882</td>\n",
              "      <td>96.406667</td>\n",
              "    </tr>\n",
              "    <tr>\n",
              "      <th>midterm_grades</th>\n",
              "      <td>68.0000</td>\n",
              "      <td>97.300000</td>\n",
              "    </tr>\n",
              "    <tr>\n",
              "      <th>final_grades</th>\n",
              "      <td>50.3360</td>\n",
              "      <td>95.652800</td>\n",
              "    </tr>\n",
              "    <tr>\n",
              "      <th>sem_grade</th>\n",
              "      <td>67.2341</td>\n",
              "      <td>95.645120</td>\n",
              "    </tr>\n",
              "  </tbody>\n",
              "</table>\n",
              "</div>"
            ],
            "text/plain": [
              "                      0          0\n",
              "prelim_grades   60.7882  96.406667\n",
              "midterm_grades  68.0000  97.300000\n",
              "final_grades    50.3360  95.652800\n",
              "sem_grade       67.2341  95.645120"
            ]
          },
          "metadata": {},
          "execution_count": 68
        }
      ]
    },
    {
      "cell_type": "markdown",
      "metadata": {
        "id": "NCPH2Iy_s6Ox"
      },
      "source": [
        "## 1.2 Code Optimization\n",
        "\n",
        "When we consider your code to be part of production or for customer delivery we must consider that they are not laggy nor too space-consuming for devices. This is a common practice in data science and machine learning wherein training algorithms take up resources from computers or considering the space a model consumes at your workspace or your customer’s device."
      ]
    },
    {
      "cell_type": "markdown",
      "metadata": {
        "id": "IfNVUwU5tApZ"
      },
      "source": [
        "### *Space Complexity*\n",
        "\n",
        "This would specifically refer to your choice of data structures. This is a job for reviewing data structures and algorithms for space complexity. Although in Python for AI we are looking into more data structures like matrices and data frames."
      ]
    },
    {
      "cell_type": "code",
      "metadata": {
        "id": "viiNhOeaKv8V"
      },
      "source": [
        "'''\n",
        "    CASE 3: Class management.\n",
        "\n",
        "    For this cell we are going to look into optimizing functions for the class.\n",
        "    This includes finding unique data and similar data amnong class materials.\n",
        "'''\n",
        "## The following code will optimize how to efficiently store data into memory\n",
        "enrollees_2016_2020 = ['15022', '18302', '8845', '9203', '10035']\n",
        "enrollees_2016_2020 = [15022, 18302, 8845, 9203, 10035]"
      ],
      "execution_count": null,
      "outputs": []
    },
    {
      "cell_type": "code",
      "metadata": {
        "colab": {
          "base_uri": "https://localhost:8080/"
        },
        "id": "_qU1hQQKDbZj",
        "outputId": "c7123a17-1c21-4732-d9d9-38d02e72fd32"
      },
      "source": [
        "img1 = [[125.4543, 254.0001], [64.2132, 84.5336]]\n",
        "img1"
      ],
      "execution_count": null,
      "outputs": [
        {
          "data": {
            "text/plain": [
              "[[125.4543, 254.0001], [64.2132, 84.5336]]"
            ]
          },
          "execution_count": 3,
          "metadata": {},
          "output_type": "execute_result"
        }
      ]
    },
    {
      "cell_type": "code",
      "metadata": {
        "colab": {
          "base_uri": "https://localhost:8080/"
        },
        "id": "JV2hWEmcEMyw",
        "outputId": "e67d3851-5ffd-492a-cfda-ce69c04b3ddb"
      },
      "source": [
        "import numpy as np\n",
        "img1_vector = np.array(img1)\n",
        "img1_vector"
      ],
      "execution_count": null,
      "outputs": [
        {
          "data": {
            "text/plain": [
              "array([[125.4543, 254.0001],\n",
              "       [ 64.2132,  84.5336]])"
            ]
          },
          "execution_count": 4,
          "metadata": {},
          "output_type": "execute_result"
        }
      ]
    },
    {
      "cell_type": "code",
      "metadata": {
        "colab": {
          "base_uri": "https://localhost:8080/"
        },
        "id": "8b4cIeOgERdo",
        "outputId": "3a05a2f9-a671-4a21-bd89-fc479f868dba"
      },
      "source": [
        "img1_quantized = np.array(img1_vector, dtype='int32')\n",
        "img1_quantized"
      ],
      "execution_count": null,
      "outputs": [
        {
          "data": {
            "text/plain": [
              "array([[125, 254],\n",
              "       [ 64,  84]], dtype=int32)"
            ]
          },
          "execution_count": 5,
          "metadata": {},
          "output_type": "execute_result"
        }
      ]
    },
    {
      "cell_type": "markdown",
      "metadata": {
        "id": "NY2uePQzs9gZ"
      },
      "source": [
        "### *Time Complexity*\n",
        "\n",
        "If you would recall back in your data structures and algorithms this pertains to the Big-O notation. However, in this notebook, we’ll look into specific and intuitive samples of time complexity. We are going to look at specific AI use such as the concept of vectorization."
      ]
    },
    {
      "cell_type": "code",
      "metadata": {
        "id": "5WlqePejs10Z"
      },
      "source": [
        "## The following code wil try to optimize getting unique elements from the given\n",
        "## list of class codes\n",
        "\n",
        "curr_2018_courses = ['220', '270', '318', '450', '101', '768', '223L', '223',\n",
        "                     '727', '418', '673', '672', '450', '124', '771', '654',\n",
        "                     '231', '768', '768', '224', '654', '673']\n",
        "### print an array that shows only the unique elements\n",
        "### Code from Geeks for Geeks\n",
        "def unique(arr):\n",
        "     # initialize a null list\n",
        "    unique_list = []\n",
        "     \n",
        "    # traverse for all elements\n",
        "    for item in arr:\n",
        "        # check if exists in unique_list or not\n",
        "        if item not in unique_list:\n",
        "            unique_list.append(item)\n",
        "    return sorted(unique_list)\n",
        "\n",
        "unique(curr_2018_courses)  "
      ],
      "execution_count": null,
      "outputs": []
    },
    {
      "cell_type": "code",
      "metadata": {
        "id": "G0bFhzBfGz75"
      },
      "source": [
        "### Optimized way\n",
        "sorted(list(set(curr_2018_courses)))"
      ],
      "execution_count": null,
      "outputs": []
    },
    {
      "cell_type": "code",
      "metadata": {
        "colab": {
          "base_uri": "https://localhost:8080/"
        },
        "id": "8qQsScWhUybw",
        "outputId": "a3f3815d-e27f-491a-ec7a-6ec794feb14a"
      },
      "source": [
        "### Optimizing Functions\n",
        "import math\n",
        "def get_floor_binlog(num):\n",
        "  return math.floor(math.log2(num))\n",
        "get_floor_binlog(31)"
      ],
      "execution_count": null,
      "outputs": [
        {
          "data": {
            "text/plain": [
              "4"
            ]
          },
          "execution_count": 3,
          "metadata": {},
          "output_type": "execute_result"
        }
      ]
    },
    {
      "cell_type": "code",
      "metadata": {
        "colab": {
          "base_uri": "https://localhost:8080/"
        },
        "id": "6atMBkMBWRP7",
        "outputId": "4fb52316-6410-4fed-8738-d1997d25ac2e"
      },
      "source": [
        "### Lambda Functions\n",
        "binlog = lambda num: math.floor(math.log2(num))\n",
        "binlog(31)"
      ],
      "execution_count": null,
      "outputs": [
        {
          "data": {
            "text/plain": [
              "4"
            ]
          },
          "execution_count": 16,
          "metadata": {},
          "output_type": "execute_result"
        }
      ]
    },
    {
      "cell_type": "code",
      "metadata": {
        "id": "ugT6Y-zBWjqD"
      },
      "source": [
        "### Optimizing Booleans\n",
        "val = 1\n",
        "if val%2 == 0:\n",
        "  val = 1\n",
        "else:\n",
        "  val = 2"
      ],
      "execution_count": null,
      "outputs": []
    },
    {
      "cell_type": "code",
      "metadata": {
        "colab": {
          "base_uri": "https://localhost:8080/"
        },
        "id": "uH-xQX6zUyqK",
        "outputId": "3d8abbc8-1c59-481d-b2fe-9aaf1aa4febf"
      },
      "source": [
        "### Singe-line Boolean Statemets\n",
        "val = 1\n",
        "val = 1 if val%2 == 0 else 2\n",
        "val"
      ],
      "execution_count": null,
      "outputs": [
        {
          "data": {
            "text/plain": [
              "2"
            ]
          },
          "execution_count": 18,
          "metadata": {},
          "output_type": "execute_result"
        }
      ]
    },
    {
      "cell_type": "code",
      "metadata": {
        "colab": {
          "base_uri": "https://localhost:8080/"
        },
        "id": "WTU6lB6CXCIQ",
        "outputId": "a1f0f065-58b4-45f9-ac5f-282e8ac4d615"
      },
      "source": [
        "### Optimizing Iterations\n",
        "bits = [1,0,1,1,1]\n",
        "not_bits = []\n",
        "for bit in bits:\n",
        "  not_bits.append(int(not(bit)))\n",
        "print(not_bits)"
      ],
      "execution_count": null,
      "outputs": [
        {
          "name": "stdout",
          "output_type": "stream",
          "text": [
            "[0, 1, 0, 0, 0]\n"
          ]
        }
      ]
    },
    {
      "cell_type": "code",
      "metadata": {
        "colab": {
          "base_uri": "https://localhost:8080/"
        },
        "id": "g9Z2mzLzVNVi",
        "outputId": "aaedbfc7-4626-4be2-828b-ce4a2bfc91df"
      },
      "source": [
        "### List Comprehensions\n",
        "bits = [1,0,1,0,1]\n",
        "not_bits = [int(not(bit)) for bit in bits]\n",
        "not_bits"
      ],
      "execution_count": null,
      "outputs": [
        {
          "data": {
            "text/plain": [
              "[0, 1, 0, 1, 0]"
            ]
          },
          "execution_count": 11,
          "metadata": {},
          "output_type": "execute_result"
        }
      ]
    },
    {
      "cell_type": "code",
      "metadata": {
        "colab": {
          "base_uri": "https://localhost:8080/"
        },
        "id": "W9y04uVjYInF",
        "outputId": "ee35af7e-9895-4aef-b67e-a52ce032946a"
      },
      "source": [
        "### A Networks Example\n",
        "def get_floor_binlog(num):\n",
        "  return math.floor(math.log2(num))\n",
        "def get_subnet_bits(user_count):\n",
        "  \n",
        "  floor_bin = get_floor_binlog(user_count) # gets the floor bits from \n",
        "                                           # the user count\n",
        "  if floor_bin == 0: # assign 1 if bit count is 0.\n",
        "    floor_bin = 1\n",
        "  bits = [] # instantiate the bit container\n",
        "  for i in range(floor_bin): # add a bit to the list of bits according to the\n",
        "                             # bit count.\n",
        "    bits.append(1) \n",
        "  return bits\n",
        "\n",
        "get_subnet_bits(32)"
      ],
      "execution_count": null,
      "outputs": [
        {
          "data": {
            "text/plain": [
              "[1, 1, 1, 1, 1]"
            ]
          },
          "execution_count": 19,
          "metadata": {},
          "output_type": "execute_result"
        }
      ]
    },
    {
      "cell_type": "code",
      "metadata": {
        "colab": {
          "base_uri": "https://localhost:8080/"
        },
        "id": "c1U3rj0iZvx5",
        "outputId": "1270579b-fd0a-4582-e504-e6c66099c823"
      },
      "source": [
        "#### An Optimized Networks Example\n",
        "floor_bin = lambda num: math.floor(math.log2(num))\n",
        "\n",
        "def get_subnet_bits(user_count):\n",
        "  \n",
        "  nbits = floor_bin(user_count) # gets the floor bits from the user count\n",
        "  nbits = 1 if nbits==0 else nbits # assign 1 if bit count is 0.\n",
        "  bits = [1 for i in range(nbits)] # add a bit to the list of bits according \n",
        "                                   # to the bit count.\n",
        "  return bits\n",
        "\n",
        "get_subnet_bits(32)"
      ],
      "execution_count": null,
      "outputs": [
        {
          "data": {
            "text/plain": [
              "[1, 1, 1, 1, 1]"
            ]
          },
          "execution_count": 20,
          "metadata": {},
          "output_type": "execute_result"
        }
      ]
    },
    {
      "cell_type": "code",
      "metadata": {
        "id": "COZLgumcIJ2u"
      },
      "source": [
        "## The following code wil try to optimize solving for the inner product of two\n",
        "## lists\n",
        "vectA = [1,2,3,1,-1,2]\n",
        "vectB = [-1,4,5,3,2,0]"
      ],
      "execution_count": null,
      "outputs": []
    },
    {
      "cell_type": "code",
      "metadata": {
        "colab": {
          "base_uri": "https://localhost:8080/"
        },
        "id": "8490guPfF1iy",
        "outputId": "37aefb51-a3fa-47ff-f716-bf012eb1b0b5"
      },
      "source": [
        "def inner_product(vect1, vect2):\n",
        "  result = 0 \n",
        "  for va,vb in zip(vectA, vectB):\n",
        "    result += va*vb\n",
        "  return result\n",
        "inner_product(vectA, vectB)"
      ],
      "execution_count": null,
      "outputs": [
        {
          "data": {
            "text/plain": [
              "23"
            ]
          },
          "execution_count": 36,
          "metadata": {},
          "output_type": "execute_result"
        }
      ]
    },
    {
      "cell_type": "code",
      "metadata": {
        "colab": {
          "base_uri": "https://localhost:8080/"
        },
        "id": "qiNiZnFQJcC5",
        "outputId": "720628dc-40fa-451b-884a-602950200d85"
      },
      "source": [
        "## Optimized method\n",
        "np.array(vectA) @ np.array(vectB) "
      ],
      "execution_count": null,
      "outputs": [
        {
          "data": {
            "text/plain": [
              "23"
            ]
          },
          "execution_count": 37,
          "metadata": {},
          "output_type": "execute_result"
        }
      ]
    },
    {
      "cell_type": "markdown",
      "metadata": {
        "id": "23uTdW9eTTsC"
      },
      "source": [
        "### Task 3: Advanced Class Functions\n",
        "1. Optimize `get_grades()` by eliminating for loops in your function.\n",
        "2. Create a function named `get_similar_students()`\n",
        "  \n",
        "  `inputs`: two (2) class `DataFrames`\n",
        "  \n",
        "  `outputs`: list of common student numbers.\n",
        "\n",
        "  *Note*: The function should not contain iterative code blocks (i.e. `for` or `while` loops, or list comprehension)"
      ]
    },
    {
      "cell_type": "code",
      "metadata": {
        "id": "nGO2PPWcRTV7",
        "colab": {
          "base_uri": "https://localhost:8080/",
          "height": 883
        },
        "outputId": "772cfc72-e05c-4955-b0a5-cb8712358069"
      },
      "source": [
        "### CODE HERE ###\n",
        "import pandas as pd\n",
        "\n",
        "## Input DataFrame\n",
        "df = pd.read_excel(\"class_grades.xlsx\")\n",
        "df\n",
        "\n",
        "\n",
        "##Add Column to Dataframe\n",
        "sem_grade=0\n",
        "df.insert(5,\"sem_grade\", sem_grade)\n",
        "df\n",
        "\n",
        "## Define Function\n",
        "def get_grades(semestral_grade):\n",
        "  prelim_grades = df['prelim_grades']\n",
        "  midterm_grades = df['midterm_grades']\n",
        "  final_grades = df['final_grades'] \n",
        "  sem_grade = (prelim_grades*0.3) + (midterm_grades*0.3) + (final_grades*0.4)\n",
        "  return sem_grade\n",
        "\n",
        "## Output\n",
        "df['sem_grade'] = df.apply(get_grades)\n",
        "df\n"
      ],
      "execution_count": null,
      "outputs": [
        {
          "output_type": "execute_result",
          "data": {
            "text/html": [
              "<div>\n",
              "<style scoped>\n",
              "    .dataframe tbody tr th:only-of-type {\n",
              "        vertical-align: middle;\n",
              "    }\n",
              "\n",
              "    .dataframe tbody tr th {\n",
              "        vertical-align: top;\n",
              "    }\n",
              "\n",
              "    .dataframe thead th {\n",
              "        text-align: right;\n",
              "    }\n",
              "</style>\n",
              "<table border=\"1\" class=\"dataframe\">\n",
              "  <thead>\n",
              "    <tr style=\"text-align: right;\">\n",
              "      <th></th>\n",
              "      <th>name</th>\n",
              "      <th>id</th>\n",
              "      <th>prelim_grades</th>\n",
              "      <th>midterm_grades</th>\n",
              "      <th>final_grades</th>\n",
              "      <th>sem_grade</th>\n",
              "    </tr>\n",
              "  </thead>\n",
              "  <tbody>\n",
              "    <tr>\n",
              "      <th>0</th>\n",
              "      <td>alpha</td>\n",
              "      <td>1</td>\n",
              "      <td>94.960000</td>\n",
              "      <td>95.260</td>\n",
              "      <td>92.2192</td>\n",
              "      <td>93.95368</td>\n",
              "    </tr>\n",
              "    <tr>\n",
              "      <th>1</th>\n",
              "      <td>aleph</td>\n",
              "      <td>2</td>\n",
              "      <td>94.960000</td>\n",
              "      <td>95.260</td>\n",
              "      <td>92.7792</td>\n",
              "      <td>94.17768</td>\n",
              "    </tr>\n",
              "    <tr>\n",
              "      <th>2</th>\n",
              "      <td>beta</td>\n",
              "      <td>3</td>\n",
              "      <td>78.173333</td>\n",
              "      <td>94.360</td>\n",
              "      <td>84.3200</td>\n",
              "      <td>85.48800</td>\n",
              "    </tr>\n",
              "    <tr>\n",
              "      <th>3</th>\n",
              "      <td>beth</td>\n",
              "      <td>4</td>\n",
              "      <td>78.173333</td>\n",
              "      <td>81.372</td>\n",
              "      <td>84.6400</td>\n",
              "      <td>81.71960</td>\n",
              "    </tr>\n",
              "    <tr>\n",
              "      <th>4</th>\n",
              "      <td>cuprum</td>\n",
              "      <td>5</td>\n",
              "      <td>94.960000</td>\n",
              "      <td>95.260</td>\n",
              "      <td>92.2192</td>\n",
              "      <td>93.95368</td>\n",
              "    </tr>\n",
              "    <tr>\n",
              "      <th>5</th>\n",
              "      <td>delta</td>\n",
              "      <td>6</td>\n",
              "      <td>84.826667</td>\n",
              "      <td>92.485</td>\n",
              "      <td>83.5792</td>\n",
              "      <td>86.62518</td>\n",
              "    </tr>\n",
              "    <tr>\n",
              "      <th>6</th>\n",
              "      <td>eta</td>\n",
              "      <td>7</td>\n",
              "      <td>93.980000</td>\n",
              "      <td>97.300</td>\n",
              "      <td>95.6528</td>\n",
              "      <td>95.64512</td>\n",
              "    </tr>\n",
              "    <tr>\n",
              "      <th>7</th>\n",
              "      <td>epsilon</td>\n",
              "      <td>8</td>\n",
              "      <td>60.788200</td>\n",
              "      <td>68.000</td>\n",
              "      <td>83.8672</td>\n",
              "      <td>72.18334</td>\n",
              "    </tr>\n",
              "    <tr>\n",
              "      <th>8</th>\n",
              "      <td>foxtrot</td>\n",
              "      <td>9</td>\n",
              "      <td>94.306667</td>\n",
              "      <td>82.000</td>\n",
              "      <td>84.1472</td>\n",
              "      <td>86.55088</td>\n",
              "    </tr>\n",
              "    <tr>\n",
              "      <th>9</th>\n",
              "      <td>gamma</td>\n",
              "      <td>10</td>\n",
              "      <td>96.406667</td>\n",
              "      <td>82.000</td>\n",
              "      <td>84.1472</td>\n",
              "      <td>87.18088</td>\n",
              "    </tr>\n",
              "    <tr>\n",
              "      <th>10</th>\n",
              "      <td>geld</td>\n",
              "      <td>11</td>\n",
              "      <td>86.926667</td>\n",
              "      <td>92.485</td>\n",
              "      <td>82.7792</td>\n",
              "      <td>86.93518</td>\n",
              "    </tr>\n",
              "    <tr>\n",
              "      <th>11</th>\n",
              "      <td>horus</td>\n",
              "      <td>12</td>\n",
              "      <td>78.173333</td>\n",
              "      <td>94.360</td>\n",
              "      <td>84.3200</td>\n",
              "      <td>85.48800</td>\n",
              "    </tr>\n",
              "    <tr>\n",
              "      <th>12</th>\n",
              "      <td>iota</td>\n",
              "      <td>13</td>\n",
              "      <td>94.306667</td>\n",
              "      <td>82.000</td>\n",
              "      <td>84.1472</td>\n",
              "      <td>86.55088</td>\n",
              "    </tr>\n",
              "    <tr>\n",
              "      <th>13</th>\n",
              "      <td>ixus</td>\n",
              "      <td>14</td>\n",
              "      <td>78.173333</td>\n",
              "      <td>94.360</td>\n",
              "      <td>84.3200</td>\n",
              "      <td>85.48800</td>\n",
              "    </tr>\n",
              "    <tr>\n",
              "      <th>14</th>\n",
              "      <td>jakarta</td>\n",
              "      <td>15</td>\n",
              "      <td>84.826667</td>\n",
              "      <td>92.485</td>\n",
              "      <td>82.7792</td>\n",
              "      <td>86.30518</td>\n",
              "    </tr>\n",
              "    <tr>\n",
              "      <th>15</th>\n",
              "      <td>koppa</td>\n",
              "      <td>16</td>\n",
              "      <td>NaN</td>\n",
              "      <td>87.685</td>\n",
              "      <td>83.8672</td>\n",
              "      <td>NaN</td>\n",
              "    </tr>\n",
              "    <tr>\n",
              "      <th>16</th>\n",
              "      <td>lambda</td>\n",
              "      <td>17</td>\n",
              "      <td>93.980000</td>\n",
              "      <td>97.300</td>\n",
              "      <td>95.6528</td>\n",
              "      <td>95.64512</td>\n",
              "    </tr>\n",
              "    <tr>\n",
              "      <th>17</th>\n",
              "      <td>mu</td>\n",
              "      <td>18</td>\n",
              "      <td>79.806667</td>\n",
              "      <td>83.500</td>\n",
              "      <td>81.2792</td>\n",
              "      <td>81.50368</td>\n",
              "    </tr>\n",
              "    <tr>\n",
              "      <th>18</th>\n",
              "      <td>nu</td>\n",
              "      <td>19</td>\n",
              "      <td>75.406667</td>\n",
              "      <td>82.000</td>\n",
              "      <td>82.5472</td>\n",
              "      <td>80.24088</td>\n",
              "    </tr>\n",
              "    <tr>\n",
              "      <th>19</th>\n",
              "      <td>neta</td>\n",
              "      <td>20</td>\n",
              "      <td>69.314000</td>\n",
              "      <td>87.685</td>\n",
              "      <td>50.3360</td>\n",
              "      <td>67.23410</td>\n",
              "    </tr>\n",
              "    <tr>\n",
              "      <th>20</th>\n",
              "      <td>omicron</td>\n",
              "      <td>21</td>\n",
              "      <td>93.980000</td>\n",
              "      <td>97.300</td>\n",
              "      <td>95.6528</td>\n",
              "      <td>95.64512</td>\n",
              "    </tr>\n",
              "    <tr>\n",
              "      <th>21</th>\n",
              "      <td>omega</td>\n",
              "      <td>22</td>\n",
              "      <td>79.806667</td>\n",
              "      <td>83.500</td>\n",
              "      <td>81.2792</td>\n",
              "      <td>81.50368</td>\n",
              "    </tr>\n",
              "    <tr>\n",
              "      <th>22</th>\n",
              "      <td>phalanx</td>\n",
              "      <td>23</td>\n",
              "      <td>84.826667</td>\n",
              "      <td>92.485</td>\n",
              "      <td>82.7792</td>\n",
              "      <td>86.30518</td>\n",
              "    </tr>\n",
              "    <tr>\n",
              "      <th>23</th>\n",
              "      <td>peta</td>\n",
              "      <td>24</td>\n",
              "      <td>94.960000</td>\n",
              "      <td>95.260</td>\n",
              "      <td>92.2192</td>\n",
              "      <td>93.95368</td>\n",
              "    </tr>\n",
              "    <tr>\n",
              "      <th>24</th>\n",
              "      <td>pi</td>\n",
              "      <td>25</td>\n",
              "      <td>79.806667</td>\n",
              "      <td>87.460</td>\n",
              "      <td>81.2792</td>\n",
              "      <td>82.69168</td>\n",
              "    </tr>\n",
              "    <tr>\n",
              "      <th>25</th>\n",
              "      <td>yotta</td>\n",
              "      <td>26</td>\n",
              "      <td>93.980000</td>\n",
              "      <td>97.300</td>\n",
              "      <td>94.8528</td>\n",
              "      <td>95.32512</td>\n",
              "    </tr>\n",
              "    <tr>\n",
              "      <th>26</th>\n",
              "      <td>zeta</td>\n",
              "      <td>27</td>\n",
              "      <td>86.626667</td>\n",
              "      <td>84.850</td>\n",
              "      <td>83.8672</td>\n",
              "      <td>84.98988</td>\n",
              "    </tr>\n",
              "  </tbody>\n",
              "</table>\n",
              "</div>"
            ],
            "text/plain": [
              "       name  id  prelim_grades  midterm_grades  final_grades  sem_grade\n",
              "0     alpha   1      94.960000          95.260       92.2192   93.95368\n",
              "1     aleph   2      94.960000          95.260       92.7792   94.17768\n",
              "2      beta   3      78.173333          94.360       84.3200   85.48800\n",
              "3      beth   4      78.173333          81.372       84.6400   81.71960\n",
              "4    cuprum   5      94.960000          95.260       92.2192   93.95368\n",
              "5     delta   6      84.826667          92.485       83.5792   86.62518\n",
              "6       eta   7      93.980000          97.300       95.6528   95.64512\n",
              "7   epsilon   8      60.788200          68.000       83.8672   72.18334\n",
              "8   foxtrot   9      94.306667          82.000       84.1472   86.55088\n",
              "9     gamma  10      96.406667          82.000       84.1472   87.18088\n",
              "10     geld  11      86.926667          92.485       82.7792   86.93518\n",
              "11    horus  12      78.173333          94.360       84.3200   85.48800\n",
              "12     iota  13      94.306667          82.000       84.1472   86.55088\n",
              "13     ixus  14      78.173333          94.360       84.3200   85.48800\n",
              "14  jakarta  15      84.826667          92.485       82.7792   86.30518\n",
              "15    koppa  16            NaN          87.685       83.8672        NaN\n",
              "16   lambda  17      93.980000          97.300       95.6528   95.64512\n",
              "17       mu  18      79.806667          83.500       81.2792   81.50368\n",
              "18       nu  19      75.406667          82.000       82.5472   80.24088\n",
              "19     neta  20      69.314000          87.685       50.3360   67.23410\n",
              "20  omicron  21      93.980000          97.300       95.6528   95.64512\n",
              "21    omega  22      79.806667          83.500       81.2792   81.50368\n",
              "22  phalanx  23      84.826667          92.485       82.7792   86.30518\n",
              "23     peta  24      94.960000          95.260       92.2192   93.95368\n",
              "24       pi  25      79.806667          87.460       81.2792   82.69168\n",
              "25    yotta  26      93.980000          97.300       94.8528   95.32512\n",
              "26     zeta  27      86.626667          84.850       83.8672   84.98988"
            ]
          },
          "metadata": {},
          "execution_count": 14
        }
      ]
    },
    {
      "cell_type": "code",
      "metadata": {
        "id": "u6vQAEf6HSrd",
        "colab": {
          "base_uri": "https://localhost:8080/"
        },
        "outputId": "9d4bff67-aa9c-4333-bd47-fc5462b5563e"
      },
      "source": [
        "### CODE HERE ###\n",
        "import pandas as pd\n",
        "from pandas import DataFrame\n",
        "import numpy as np\n",
        "\n",
        "\n",
        "########## 2. Create function get_similar_students() ##########\n",
        "#List of Names in AIDA and DSP Classes\n",
        "class_2018_ml = ['Anne West', 'Bella Eusto', 'Callie Can', 'Don Peri', 'Elle Summers', 'Fatima Holl', 'Gian West', 'Helios Sunny', 'Macario Bon']\n",
        "class_2018_dsp = ['Anne West', 'Don Peri', 'Gian West', 'Helios Sun', 'Noelle Myer', 'Kate Collins', 'Merry Gwen','Fin Oster', 'Fatima Holl', 'Elle Summers']\n",
        "\n",
        "##Input DataFrame\n",
        "ml_class_df = DataFrame(class_2018_ml)\n",
        "dsp_class_df = DataFrame(class_2018_dsp)\n",
        "\n",
        "##Create Function to find similar students\n",
        "def get_similar_students():\n",
        "  aida_ml_students = np.intersect1d(ml_class_df, dsp_class_df)\n",
        "  print(aida_ml_students.tolist())\n",
        "get_similar_students()"
      ],
      "execution_count": null,
      "outputs": [
        {
          "output_type": "stream",
          "name": "stdout",
          "text": [
            "['Anne West', 'Don Peri', 'Elle Summers', 'Fatima Holl', 'Gian West']\n"
          ]
        }
      ]
    },
    {
      "cell_type": "markdown",
      "metadata": {
        "id": "mJoJ5ZjbKWFt"
      },
      "source": [
        "# 2. Some Object-Oriented Programming Concepts\n",
        "\n",
        "Object-oriented programming (OOP) is undoubtedly a foundational programming course for Software Engineering. The idea of OOP is to transform procedural programming into a more modular programming style. In this section, we are going to review the fundamentals of OOP such as objects, classes, and encapsulation."
      ]
    },
    {
      "cell_type": "markdown",
      "metadata": {
        "id": "5yuIoWHU1_0v"
      },
      "source": [
        "## 2.1 Objects and Classes\n",
        "Learning about objects and classes is one of the foundations of OOP. Think of objects as any object that you could see. Like cars, shirts, humans, professions, even your favorite anime characters. Classes on the other hand are the categories or concepts of those things. In this section, we’ll review how to instantiate classes and objects."
      ]
    },
    {
      "cell_type": "markdown",
      "metadata": {
        "id": "90KYzkth2VLX"
      },
      "source": [
        "### *Attributes and Methods*\n",
        "Just like any object are just things we could describe them or they could have what we call descriptions or characteristics. In OOP we call these attributes. Attributes can be any value representing an aspect of the object which is inclusive to its concept of class. For example, a tree (object)  under the category of plants (class) could have attributes such as its name, age, height, or even the amount of oxygen it produces.\n",
        "\n",
        "Methods, on the other hand, are interactions that could be done by the object or could be done onto the object. For example for our tree, it could grow, photosynthesize, absorb water, or we could harvest its fruits. In this example, we can try to review the attributes and methods of a class or object."
      ]
    },
    {
      "cell_type": "code",
      "metadata": {
        "id": "xguJ6ns5pVfc"
      },
      "source": [
        "'''\n",
        "    CASE 4: Class of Classes\n",
        "\n",
        "    For this section we are going to look at implementing the fundamentals of\n",
        "    OOP for our class routines.\n",
        "'''\n",
        "class Section:\n",
        "  def __init__(self, max_pop, class_list):\n",
        "    self.max_pop = max_pop\n",
        "    self.class_list = class_list\n",
        "  \n",
        "  def count_class(self):\n",
        "    return len(self.class_list)\n",
        "\n",
        "  def is_overloaded(self):\n",
        "    is_overload = True if self.count_class() > self.max_pop else False\n",
        "    return is_overload"
      ],
      "execution_count": null,
      "outputs": []
    },
    {
      "cell_type": "markdown",
      "metadata": {
        "id": "mF2MlzFv2ZQw"
      },
      "source": [
        "### *Class Instantiation*\n",
        "Now that we have created our class let’s try to put them to use in code. To use classes and objects in your code we are going to instantiate them. There are several ways to instantiate an object and we will be trying them out in this section."
      ]
    },
    {
      "cell_type": "code",
      "metadata": {
        "colab": {
          "base_uri": "https://localhost:8080/"
        },
        "id": "8kJC6vsWpTET",
        "outputId": "841de3f3-e223-40cd-9203-6ca36bf5a69c"
      },
      "source": [
        "CpE_58053 = Section(40, ['John'])\n",
        "print(CpE_58053.is_overloaded())\n",
        "print(CpE_58053.count_class())"
      ],
      "execution_count": null,
      "outputs": [
        {
          "data": {
            "text/plain": [
              "False"
            ]
          },
          "execution_count": 28,
          "metadata": {},
          "output_type": "execute_result"
        }
      ]
    },
    {
      "cell_type": "markdown",
      "metadata": {
        "id": "mhDqZEML3hRf"
      },
      "source": [
        "## 2.2 Encapsulation\n",
        "The idea of incapsulation is to restrict users or developers from using or tampering with the internal attributes or methods of a class. This would be similar to using the private or public property in Java, C++, or C#. Python also enforces this in programming but in a different way. \n",
        "\n",
        "Not every procedure or transaction in a class should be shown to the users. We used the concept of encapsulation to solve this. In Python, all attributes, variables, or methods are public by default. In this section, we will see how to make methods and attributes private."
      ]
    },
    {
      "cell_type": "code",
      "metadata": {
        "id": "uGGueFuLpSDk"
      },
      "source": [
        "class Section:\n",
        "  def __init__(self, max_pop, class_list):\n",
        "    self.max_pop = max_pop\n",
        "    self.class_list = class_list\n",
        "  \n",
        "  def __count_class(self):\n",
        "    return len(self.class_list)\n",
        "\n",
        "  def is_overloaded(self):\n",
        "    is_overload = True if self.__count_class() > self.max_pop else False\n",
        "    return is_overload"
      ],
      "execution_count": null,
      "outputs": []
    },
    {
      "cell_type": "code",
      "metadata": {
        "id": "cJai7CiAeZPj"
      },
      "source": [
        "CpE_58054 = Section(2, ['Jeanne', 'Pietro', 'Dude'])\n",
        "print(CpE_58054.is_overloaded())\n",
        "print(CpE_58054.__count_class())"
      ],
      "execution_count": null,
      "outputs": []
    },
    {
      "cell_type": "markdown",
      "metadata": {
        "id": "Kp9E7V_ZgNmz"
      },
      "source": [
        "### Task 4: Class of Classes\n",
        "1. Modify the `class` `Section` and integrate the functions from Tasks 1 to 3 as its methods. Make sure that the codes are optimized.\n",
        "2. Create a `method` named `get_failed()` wherein it will create a list of all the failed students in the class.\n",
        "3. Create a `method` named `fail_count()` wherein it will return the count of the failed students.\n",
        "\n",
        "** **Note:** due to data privacy, the data privacy office has mandated your code to print the names of the failed students as well as to mask the names of the students if their grades are also displayed."
      ]
    },
    {
      "cell_type": "code",
      "metadata": {
        "id": "vpDE-npFgNBe"
      },
      "source": [
        "### CODE HERE ###\n",
        "##Task 4\n",
        "class Section:\n",
        "  ##Initialization\n",
        "  def __init__(self,class_list):\n",
        "    self.class_list = class_list\n",
        "    sem_grade = 0\n",
        "    self.class_list.insert(5, \"sem_grade\", sem_grade)\n",
        "    self.get_grades()\n",
        "    self.df_new = self.class_list.filter(['prelim_grades', 'midterm_grades', 'final_grades', 'sem_grade'], axis=1)\n",
        "    self.df_new = self.df_new.T\n",
        "    self.data_class_stats = {'mean':[],\n",
        "          'median':[],\n",
        "          'mode':[],\n",
        "          'standard dev': []}\n",
        "    self.df_class_stats = pd.DataFrame(self.data_class_stats)\n",
        "    self.data_low_high = {'Lowest': [],\n",
        "                        'Highest': []}\n",
        "    self.df_low_high = pd.DataFrame(self.data_low_high)\n",
        "    self.df_promote = self.class_list.filter(['name', 'sem_grade'], axis=1)\n",
        "    self.failed_students=[]\n",
        "\n",
        "  ##Getting Semestral Grades\n",
        "  def get_grades(self):\n",
        "    prelim_grades = self.class_list['prelim_grades']\n",
        "    midterm_grades = self.class_list['midterm_grades']\n",
        "    final_grades = self.class_list['final_grades'] \n",
        "    self.class_list['sem_grade'] = (prelim_grades*0.3) + (midterm_grades*0.3) + (final_grades*0.4)\n",
        "    #self.class_list['sem_grade']=self.class_list.apply(sem_grade)\n",
        "    return self.class_list\n",
        " \n",
        "  ##Getting Measure of Central Tendency\n",
        "  def get_class_stats(self):\n",
        "    self.df_class_stats['mean'] = self.df_new.mean(axis=1)\n",
        "    self.df_class_stats['median'] = self.df_new.median(axis=1)\n",
        "    self.df_class_stats['mode'] = self.df_new.mode(axis=1)\n",
        "    self.df_class_stats['standard dev'] = self.df_new.std(axis=1)\n",
        "    return self.df_class_stats\n",
        "\n",
        "  ##Getting Lowest and Highest Grades\n",
        "  def get_low_high(self):\n",
        "    self.df_low_high['Lowest']=self.df_new.min(axis=1)\n",
        "    self.df_low_high['Highest']=self.df_new.max(axis=1)\n",
        "    return self.df_low_high\n",
        "\n",
        "  ## Getting Name of Failed Students\n",
        "  def get_failed(self):\n",
        "    df_failed = self.df_promote[self.df_promote['sem_grade'].isnull()]\n",
        "    df_failed = df_failed.append(self.df_promote[self.df_promote['sem_grade']<70])\n",
        "    df_failed['name'] = '******'\n",
        "    self.failed_students=df_failed['name'].tolist()\n",
        "    return self.failed_students\n",
        "\n",
        "  #Getting Number of Failed Students\n",
        "  def num_failed(self):\n",
        "    return len(self.failed_students)"
      ],
      "execution_count": null,
      "outputs": []
    },
    {
      "cell_type": "code",
      "metadata": {
        "colab": {
          "base_uri": "https://localhost:8080/"
        },
        "id": "zp480ogJM4Ow",
        "outputId": "3ee601a3-6489-424d-b0be-13fbd68e25d7"
      },
      "source": [
        "import pandas as pd\n",
        "df = pd.read_excel(\"class_grades.xlsx\")\n",
        "CpE_class = Section(df)\n",
        "print(CpE_class.get_grades())\n",
        "print(CpE_class.get_class_stats())\n",
        "print(CpE_class.get_low_high())\n",
        "print(\"Failed Students: \" , CpE_class.get_failed())\n",
        "print(\"Number of Failed Students: \" , CpE_class.num_failed())"
      ],
      "execution_count": null,
      "outputs": [
        {
          "output_type": "stream",
          "name": "stdout",
          "text": [
            "       name  id  prelim_grades  midterm_grades  final_grades  sem_grade\n",
            "0     alpha   1      94.960000          95.260       92.2192   93.95368\n",
            "1     aleph   2      94.960000          95.260       92.7792   94.17768\n",
            "2      beta   3      78.173333          94.360       84.3200   85.48800\n",
            "3      beth   4      78.173333          81.372       84.6400   81.71960\n",
            "4    cuprum   5      94.960000          95.260       92.2192   93.95368\n",
            "5     delta   6      84.826667          92.485       83.5792   86.62518\n",
            "6       eta   7      93.980000          97.300       95.6528   95.64512\n",
            "7   epsilon   8      60.788200          68.000       83.8672   72.18334\n",
            "8   foxtrot   9      94.306667          82.000       84.1472   86.55088\n",
            "9     gamma  10      96.406667          82.000       84.1472   87.18088\n",
            "10     geld  11      86.926667          92.485       82.7792   86.93518\n",
            "11    horus  12      78.173333          94.360       84.3200   85.48800\n",
            "12     iota  13      94.306667          82.000       84.1472   86.55088\n",
            "13     ixus  14      78.173333          94.360       84.3200   85.48800\n",
            "14  jakarta  15      84.826667          92.485       82.7792   86.30518\n",
            "15    koppa  16            NaN          87.685       83.8672        NaN\n",
            "16   lambda  17      93.980000          97.300       95.6528   95.64512\n",
            "17       mu  18      79.806667          83.500       81.2792   81.50368\n",
            "18       nu  19      75.406667          82.000       82.5472   80.24088\n",
            "19     neta  20      69.314000          87.685       50.3360   67.23410\n",
            "20  omicron  21      93.980000          97.300       95.6528   95.64512\n",
            "21    omega  22      79.806667          83.500       81.2792   81.50368\n",
            "22  phalanx  23      84.826667          92.485       82.7792   86.30518\n",
            "23     peta  24      94.960000          95.260       92.2192   93.95368\n",
            "24       pi  25      79.806667          87.460       81.2792   82.69168\n",
            "25    yotta  26      93.980000          97.300       94.8528   95.32512\n",
            "26     zeta  27      86.626667          84.850       83.8672   84.98988\n",
            "                     mean     median       mode  standard dev\n",
            "prelim_grades   85.632136  85.726667  78.173333      9.402949\n",
            "midterm_grades  89.456000  92.485000  82.000000      7.179578\n",
            "final_grades    85.241807  84.147200  81.279200      8.607503\n",
            "sem_grade       86.664746  86.428030  85.488000      7.106049\n",
            "                 Lowest    Highest\n",
            "prelim_grades   60.7882  96.406667\n",
            "midterm_grades  68.0000  97.300000\n",
            "final_grades    50.3360  95.652800\n",
            "sem_grade       67.2341  95.645120\n",
            "Failed Students:  ['******', '******']\n",
            "Number of Failed Students:  2\n"
          ]
        }
      ]
    },
    {
      "cell_type": "markdown",
      "metadata": {
        "id": "UA_rrYvEihQ9"
      },
      "source": [
        "\n",
        "\n",
        "---\n",
        "**END OF LABORATORY**\n",
        "\n",
        "---\n"
      ]
    }
  ]
}